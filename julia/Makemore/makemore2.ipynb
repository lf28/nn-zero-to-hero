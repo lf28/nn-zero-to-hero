{
 "cells": [
  {
   "cell_type": "code",
   "execution_count": 1,
   "id": "afa6dad6",
   "metadata": {},
   "outputs": [
    {
     "name": "stderr",
     "output_type": "stream",
     "text": [
      "\u001b[32m\u001b[1m  Activating\u001b[22m\u001b[39m project at `~/Teaching/nn-zero-to-hero/julia/Makemore`\n"
     ]
    }
   ],
   "source": [
    "cd(@__DIR__)\n",
    "using Pkg\n",
    "Pkg.activate(\".\")"
   ]
  },
  {
   "cell_type": "code",
   "execution_count": 2,
   "id": "05ebd15d",
   "metadata": {},
   "outputs": [
    {
     "name": "stderr",
     "output_type": "stream",
     "text": [
      "\u001b[36m\u001b[1m[ \u001b[22m\u001b[39m\u001b[36m\u001b[1mInfo: \u001b[22m\u001b[39mPrecompiling Flux [587475ba-b771-5e3f-ad9e-33799f191a9c]\n",
      "WARNING: method definition for OneHotArray at /Users/lf28/.julia/packages/MicroCollections/yJPLe/src/onehot.jl:79 declares type variable N but does not use it.\n",
      "\u001b[36m\u001b[1m[ \u001b[22m\u001b[39m\u001b[36m\u001b[1mInfo: \u001b[22m\u001b[39mPrecompiling Distributions [31c24e10-a181-5473-b8eb-7969acd0382f]\n",
      "\u001b[36m\u001b[1m[ \u001b[22m\u001b[39m\u001b[36m\u001b[1mInfo: \u001b[22m\u001b[39mPrecompiling Plots [91a5bcdd-55d7-5caf-9e0b-520d859cae80]\n"
     ]
    }
   ],
   "source": [
    "begin\n",
    "    using Flux\n",
    "    using Zygote\n",
    "    using Random\n",
    "    using Distributions\n",
    "    using Plots\n",
    "    using StatsBase\n",
    "    using Statistics\n",
    "end"
   ]
  },
  {
   "cell_type": "code",
   "execution_count": 3,
   "id": "08861e81",
   "metadata": {},
   "outputs": [],
   "source": [
    "using ProgressMeter"
   ]
  },
  {
   "cell_type": "code",
   "execution_count": 4,
   "id": "c32c555a",
   "metadata": {},
   "outputs": [],
   "source": [
    "begin\n",
    "    data_url = \"https://raw.githubusercontent.com/karpathy/makemore/master/names.txt\"\n",
    "    dat = download(data_url)\n",
    "end;"
   ]
  },
  {
   "cell_type": "code",
   "execution_count": 5,
   "id": "abcdd941",
   "metadata": {},
   "outputs": [],
   "source": [
    "words = readlines(dat; keep=false);"
   ]
  },
  {
   "cell_type": "code",
   "execution_count": 6,
   "id": "75a4e59f",
   "metadata": {},
   "outputs": [],
   "source": [
    "begin\n",
    "    # chars = collect('a':'z')\n",
    "    chars = sort(unique(join(words)))\n",
    "    num_chars = length(chars) \n",
    "    # push!(chars, '.')\n",
    "    insert!(chars, 1, '.')\n",
    "    stoi = Dict(zip(chars, 1:length(chars)))\n",
    "    itos = Dict(zip(1:length(chars), chars))\n",
    "end;"
   ]
  },
  {
   "cell_type": "code",
   "execution_count": 7,
   "id": "ae60e91e",
   "metadata": {},
   "outputs": [],
   "source": [
    "vocab = chars;"
   ]
  },
  {
   "cell_type": "code",
   "execution_count": 8,
   "id": "3bb3e75b",
   "metadata": {},
   "outputs": [
    {
     "data": {
      "text/plain": [
       "3"
      ]
     },
     "execution_count": 8,
     "metadata": {},
     "output_type": "execute_result"
    }
   ],
   "source": [
    "block_size = 3"
   ]
  },
  {
   "cell_type": "code",
   "execution_count": 9,
   "id": "2361f0e4",
   "metadata": {},
   "outputs": [],
   "source": [
    "# block_size = 3\n",
    "\n",
    "# ys = Array{Int}(undef, 0)\n",
    "# Xs = []\n",
    "# context = repeat('.', block_size) \n",
    "# for c in w\n",
    "#     push!(Xs, [stoi[c] for c in context])\n",
    "#     push!(ys, stoi[c])\n",
    "#     println(context, \" ---> \", c)\n",
    "#     context = context[2:end] * c\n",
    "# end\n"
   ]
  },
  {
   "cell_type": "code",
   "execution_count": 10,
   "id": "54329680",
   "metadata": {},
   "outputs": [
    {
     "data": {
      "text/plain": [
       "build_dataset (generic function with 1 method)"
      ]
     },
     "execution_count": 10,
     "metadata": {},
     "output_type": "execute_result"
    }
   ],
   "source": [
    "function build_dataset(words)\n",
    "    Y = []\n",
    "    X = []\n",
    "    for w in words\n",
    "        context = repeat('.', block_size) \n",
    "        for c in w * '.'\n",
    "            push!(X, [stoi[c] for c in context])\n",
    "            push!(Y, stoi[c])\n",
    "#             println(context, \" ---> \", c)\n",
    "            context = context[2:end] * c\n",
    "        end\n",
    "    end\n",
    "    return hcat(X...), hcat(Y...)\n",
    "end"
   ]
  },
  {
   "cell_type": "code",
   "execution_count": 11,
   "id": "39156e65",
   "metadata": {},
   "outputs": [
    {
     "data": {
      "text/plain": [
       "([1 1 … 27 26; 1 1 … 26 27; 1 6 … 27 25], [6 14 … 25 1])"
      ]
     },
     "execution_count": 11,
     "metadata": {},
     "output_type": "execute_result"
    }
   ],
   "source": [
    "X, Y = build_dataset(words);"
   ]
  },
  {
   "cell_type": "code",
   "execution_count": 12,
   "id": "bf5f08cc",
   "metadata": {},
   "outputs": [
    {
     "data": {
      "text/plain": [
       "((3, 228146), (1, 228146))"
      ]
     },
     "execution_count": 12,
     "metadata": {},
     "output_type": "execute_result"
    }
   ],
   "source": [
    "size(X), size(Y)"
   ]
  },
  {
   "cell_type": "code",
   "execution_count": 13,
   "id": "4eaf813d",
   "metadata": {},
   "outputs": [
    {
     "data": {
      "text/plain": [
       "([1 1 … 2 13; 1 1 … 13 10; 1 18 … 10 27], [18 22 … 27 1])"
      ]
     },
     "execution_count": 13,
     "metadata": {},
     "output_type": "execute_result"
    }
   ],
   "source": [
    "# split the data to train, dev, test\n",
    "Random.seed!(42)\n",
    "\n",
    "shuffle!(words)\n",
    "n1 = floor(Int, 0.8 * length(words))\n",
    "n2 = floor(Int, 0.9 * length(words))\n",
    "Xtr, Ytr = build_dataset(words[1:n1])\n",
    "Xdev, Ydev = build_dataset(words[(n1+1):n2])\n",
    "Xte, Yte = build_dataset(words[(n2+1):end]);"
   ]
  },
  {
   "cell_type": "code",
   "execution_count": 14,
   "id": "69389c57",
   "metadata": {},
   "outputs": [
    {
     "data": {
      "text/plain": [
       "Embedding(27 => 2)  \u001b[90m# 54 parameters\u001b[39m"
      ]
     },
     "execution_count": 14,
     "metadata": {},
     "output_type": "execute_result"
    }
   ],
   "source": [
    "Embedding(27=>2)"
   ]
  },
  {
   "cell_type": "code",
   "execution_count": 15,
   "id": "b854b205",
   "metadata": {},
   "outputs": [
    {
     "data": {
      "text/plain": [
       "2×27 Matrix{Float64}:\n",
       " 1.50014   1.3321   2.4653    2.03043  …  -0.139152   0.718401  2.04768\n",
       " 0.634146  1.57173  1.68428  -1.1982      -1.19438   -0.335327  1.98373"
      ]
     },
     "execution_count": 15,
     "metadata": {},
     "output_type": "execute_result"
    }
   ],
   "source": [
    "# embedding \n",
    "C = randn(2, 27)"
   ]
  },
  {
   "cell_type": "code",
   "execution_count": 16,
   "id": "0c622951",
   "metadata": {},
   "outputs": [
    {
     "data": {
      "text/plain": [
       "2×3×3 Array{Float64, 3}:\n",
       "[:, :, 1] =\n",
       " 1.50014   1.50014   1.50014\n",
       " 0.634146  0.634146  0.634146\n",
       "\n",
       "[:, :, 2] =\n",
       " 1.3321   1.3321   1.3321\n",
       " 1.57173  1.57173  1.57173\n",
       "\n",
       "[:, :, 3] =\n",
       " 2.4653   2.4653   2.4653\n",
       " 1.68428  1.68428  1.68428"
      ]
     },
     "execution_count": 16,
     "metadata": {},
     "output_type": "execute_result"
    }
   ],
   "source": [
    "C[:,[1 2 3; 1 2 3; 1 2 3]]"
   ]
  },
  {
   "cell_type": "code",
   "execution_count": 17,
   "id": "b717f08c",
   "metadata": {},
   "outputs": [],
   "source": [
    "# [1 2 3; 1 2 3]"
   ]
  },
  {
   "cell_type": "code",
   "execution_count": 18,
   "id": "4188e5e5",
   "metadata": {},
   "outputs": [],
   "source": [
    "# Flux.onehotbatch(\"cat&dog\", 'a':'z', 'n')"
   ]
  },
  {
   "cell_type": "code",
   "execution_count": 19,
   "id": "5a0c391c",
   "metadata": {},
   "outputs": [
    {
     "data": {
      "text/plain": [
       "Embedding(27 => 2)  \u001b[90m# 54 parameters\u001b[39m"
      ]
     },
     "execution_count": 19,
     "metadata": {},
     "output_type": "execute_result"
    }
   ],
   "source": [
    "# dim of the embedding layer\n",
    "dim = 2\n",
    "C = Embedding(length(vocab)=>dim)"
   ]
  },
  {
   "cell_type": "code",
   "execution_count": 20,
   "id": "c6abd47c",
   "metadata": {},
   "outputs": [
    {
     "data": {
      "text/plain": [
       "(2, 3, 182406)"
      ]
     },
     "execution_count": 20,
     "metadata": {},
     "output_type": "execute_result"
    }
   ],
   "source": [
    "C(Xtr) |> size"
   ]
  },
  {
   "cell_type": "code",
   "execution_count": 21,
   "id": "a928cb50",
   "metadata": {},
   "outputs": [
    {
     "data": {
      "text/plain": [
       "true"
      ]
     },
     "execution_count": 21,
     "metadata": {},
     "output_type": "execute_result"
    }
   ],
   "source": [
    "reshape(C(Xtr), 6, :) ==  C(Xtr) |> Flux.flatten"
   ]
  },
  {
   "cell_type": "code",
   "execution_count": 24,
   "id": "00f7c98e",
   "metadata": {},
   "outputs": [
    {
     "data": {
      "text/plain": [
       "5701-element DataLoader(::Tuple{Matrix{Int64}, Matrix{Int64}}, batchsize=32)\n",
       "  with first element:\n",
       "  (3×32 Matrix{Int64}, 1×32 Matrix{Int64},)"
      ]
     },
     "execution_count": 24,
     "metadata": {},
     "output_type": "execute_result"
    }
   ],
   "source": [
    "data = Flux.DataLoader((Xtr, Ytr), batchsize=32);"
   ]
  },
  {
   "cell_type": "code",
   "execution_count": 26,
   "id": "70b548e7",
   "metadata": {},
   "outputs": [
    {
     "data": {
      "text/plain": [
       "5701-element DataLoader(::Tuple{Matrix{Int64}, OneHotArrays.OneHotMatrix{UInt32, Vector{UInt32}}}, batchsize=32)\n",
       "  with first element:\n",
       "  (3×32 Matrix{Int64}, 27×32 OneHotMatrix(::Vector{UInt32}) with eltype Bool,)"
      ]
     },
     "execution_count": 26,
     "metadata": {},
     "output_type": "execute_result"
    }
   ],
   "source": [
    "targets = Flux.onehotbatch(Ytr[:], 1:length(vocab))\n",
    "mini_batches = Flux.DataLoader((Xtr, targets), batchsize=32);"
   ]
  },
  {
   "cell_type": "code",
   "execution_count": 190,
   "id": "828285eb",
   "metadata": {},
   "outputs": [
    {
     "data": {
      "text/plain": [
       "Chain(\n",
       "  Embedding(27 => 2),                   \u001b[90m# 54 parameters\u001b[39m\n",
       "  Flux.flatten,\n",
       "  Dense(6 => 200, tanh),                \u001b[90m# 1_400 parameters\u001b[39m\n",
       "  Dense(200 => 27),                     \u001b[90m# 5_427 parameters\u001b[39m\n",
       ") \u001b[90m                  # Total: 5 arrays, \u001b[39m6_881 parameters, 27.191 KiB."
      ]
     },
     "execution_count": 190,
     "metadata": {},
     "output_type": "execute_result"
    }
   ],
   "source": [
    "h1 = 200\n",
    "dim = 2\n",
    "act = tanh\n",
    "mlp = Chain(\n",
    "    Embedding(length(vocab) => dim), \n",
    "    Flux.flatten, \n",
    "    Dense(block_size * dim => h1, act), \n",
    "    Dense(h1, length(vocab))\n",
    ")"
   ]
  },
  {
   "cell_type": "code",
   "execution_count": 191,
   "id": "1d049e11",
   "metadata": {},
   "outputs": [],
   "source": [
    "# idx = rand(1:size(Xtr)[2], 5)\n",
    "# Xtr[:, idx]\n",
    "# targets[:, idx]"
   ]
  },
  {
   "cell_type": "code",
   "execution_count": 192,
   "id": "ce4b9a4a",
   "metadata": {},
   "outputs": [],
   "source": [
    "# stepi, lossi, mlp_sgd = let\n",
    "    \n",
    "#     h1 = 200\n",
    "#     dim = 2\n",
    "#     act = tanh\n",
    "#     mlp = Chain(\n",
    "#         Embedding(length(vocab) => dim), \n",
    "#         Flux.flatten, \n",
    "#         Dense(block_size * dim => h1, act), \n",
    "#         Dense(h1, length(vocab))\n",
    "#     )\n",
    "    \n",
    "    \n",
    "#     lossi = []\n",
    "#     stepi = []\n",
    "#     tr_size = size(Xtr)[2]\n",
    "#     batch_size = 32\n",
    "#     for iter in 1:200_000\n",
    "# #        mini batches\n",
    "#         ix = rand(1:tr_size, batch_size)\n",
    "#         xs = Xtr[:, ix]\n",
    "#         ys = targets[:, ix]\n",
    "        \n",
    "#         loss, grads = Flux.withgradient(mlp) do m\n",
    "#             ŷ = m(xs)\n",
    "#             Flux.Losses.logitcrossentropy(ŷ, ys)\n",
    "#         end\n",
    "        \n",
    "        \n",
    "# #     gradient descent\n",
    "#         opt = iter < 100000 ? Descent(0.1) : Descent(0.01)\n",
    "# #         for p in params\n",
    "# #             p.data +=  -lr * p.grad\n",
    "# #         end\n",
    "        \n",
    "# #         opt = Descent(0.3)\n",
    "#         Flux.update!(Flux.setup(opt, mlp), mlp, grads[1])\n",
    "#         push!(lossi, loss)\n",
    "#         push!(stepi, iter)\n",
    "#     end\n",
    "    \n",
    "#     stepi, lossi, mlp\n",
    "# end"
   ]
  },
  {
   "cell_type": "code",
   "execution_count": 193,
   "id": "420874d3",
   "metadata": {},
   "outputs": [],
   "source": [
    "# plot(lossi)"
   ]
  },
  {
   "cell_type": "code",
   "execution_count": 194,
   "id": "792a0f5a",
   "metadata": {},
   "outputs": [],
   "source": [
    "# lossi[end], Flux.Losses.logitcrossentropy(mlp_sgd(Xtr), Flux.onehotbatch(Ytr[:], 1:length(vocab)))"
   ]
  },
  {
   "cell_type": "code",
   "execution_count": 195,
   "id": "711717c4",
   "metadata": {},
   "outputs": [
    {
     "data": {
      "text/plain": [
       "(layers = ((weight = \u001b[32mLeaf(Adam{Float64}(0.01, (0.9, 0.999), 1.0e-8), \u001b[39m(Float32[0.0 0.0 … 0.0 0.0; 0.0 0.0 … 0.0 0.0], Float32[0.0 0.0 … 0.0 0.0; 0.0 0.0 … 0.0 0.0], (0.9, 0.999))\u001b[32m)\u001b[39m,), (), (weight = \u001b[32mLeaf(Adam{Float64}(0.01, (0.9, 0.999), 1.0e-8), \u001b[39m(Float32[0.0 0.0 … 0.0 0.0; 0.0 0.0 … 0.0 0.0; … ; 0.0 0.0 … 0.0 0.0; 0.0 0.0 … 0.0 0.0], Float32[0.0 0.0 … 0.0 0.0; 0.0 0.0 … 0.0 0.0; … ; 0.0 0.0 … 0.0 0.0; 0.0 0.0 … 0.0 0.0], (0.9, 0.999))\u001b[32m)\u001b[39m, bias = \u001b[32mLeaf(Adam{Float64}(0.01, (0.9, 0.999), 1.0e-8), \u001b[39m(Float32[0.0, 0.0, 0.0, 0.0, 0.0, 0.0, 0.0, 0.0, 0.0, 0.0  …  0.0, 0.0, 0.0, 0.0, 0.0, 0.0, 0.0, 0.0, 0.0, 0.0], Float32[0.0, 0.0, 0.0, 0.0, 0.0, 0.0, 0.0, 0.0, 0.0, 0.0  …  0.0, 0.0, 0.0, 0.0, 0.0, 0.0, 0.0, 0.0, 0.0, 0.0], (0.9, 0.999))\u001b[32m)\u001b[39m, σ = ()), (weight = \u001b[32mLeaf(Adam{Float64}(0.01, (0.9, 0.999), 1.0e-8), \u001b[39m(Float32[0.0 0.0 … 0.0 0.0; 0.0 0.0 … 0.0 0.0; … ; 0.0 0.0 … 0.0 0.0; 0.0 0.0 … 0.0 0.0], Float32[0.0 0.0 … 0.0 0.0; 0.0 0.0 … 0.0 0.0; … ; 0.0 0.0 … 0.0 0.0; 0.0 0.0 … 0.0 0.0], (0.9, 0.999))\u001b[32m)\u001b[39m, bias = \u001b[32mLeaf(Adam{Float64}(0.01, (0.9, 0.999), 1.0e-8), \u001b[39m(Float32[0.0, 0.0, 0.0, 0.0, 0.0, 0.0, 0.0, 0.0, 0.0, 0.0  …  0.0, 0.0, 0.0, 0.0, 0.0, 0.0, 0.0, 0.0, 0.0, 0.0], Float32[0.0, 0.0, 0.0, 0.0, 0.0, 0.0, 0.0, 0.0, 0.0, 0.0  …  0.0, 0.0, 0.0, 0.0, 0.0, 0.0, 0.0, 0.0, 0.0, 0.0], (0.9, 0.999))\u001b[32m)\u001b[39m, σ = ())),)"
      ]
     },
     "execution_count": 195,
     "metadata": {},
     "output_type": "execute_result"
    }
   ],
   "source": [
    "optim = Flux.setup(Flux.Adam(0.01), mlp)"
   ]
  },
  {
   "cell_type": "code",
   "execution_count": 196,
   "id": "93863ed6",
   "metadata": {},
   "outputs": [
    {
     "name": "stderr",
     "output_type": "stream",
     "text": [
      "\u001b[32mProgress: 100%|█████████████████████████████████████████| Time: 0:03:14\u001b[39m\n"
     ]
    }
   ],
   "source": [
    "losses = []\n",
    "\n",
    "@showprogress for epoch in 1:300\n",
    "#     loss = 0f0\n",
    "    for (x, y) in mini_batches\n",
    "        loss, grads = Flux.withgradient(mlp) do m\n",
    "            ŷ = m(x)\n",
    "            Flux.Losses.logitcrossentropy(ŷ, y)\n",
    "        end\n",
    "        Flux.update!(optim, mlp, grads[1])\n",
    "        push!(losses, loss)\n",
    "    end\n",
    "end"
   ]
  },
  {
   "cell_type": "code",
   "execution_count": 197,
   "id": "99249c9e",
   "metadata": {},
   "outputs": [],
   "source": [
    "# gr()\n",
    "# plot(losses; xaxis= \"epoch\",\n",
    "#     yaxis=\"loss\", label=\"per batch\")\n",
    "# plot(losses; xaxis=(:log, \"epoch\"),\n",
    "#     yaxis=\"loss\", label=\"per batch\")\n",
    "# n = length(mini_batches)\n",
    "# plot!(n:n:length(losses), mean.(Iterators.partition(losses, n)),\n",
    "#     label=\"epoch mean\", dpi=200)"
   ]
  },
  {
   "cell_type": "code",
   "execution_count": 163,
   "id": "73f1c295",
   "metadata": {},
   "outputs": [
    {
     "data": {
      "image/svg+xml": [
       "<?xml version=\"1.0\" encoding=\"utf-8\"?>\n",
       "<svg xmlns=\"http://www.w3.org/2000/svg\" xmlns:xlink=\"http://www.w3.org/1999/xlink\" width=\"600\" height=\"400\" viewBox=\"0 0 2400 1600\">\n",
       "<defs>\n",
       "  <clipPath id=\"clip540\">\n",
       "    <rect x=\"0\" y=\"0\" width=\"2400\" height=\"1600\"/>\n",
       "  </clipPath>\n",
       "</defs>\n",
       "<path clip-path=\"url(#clip540)\" d=\"M0 1600 L2400 1600 L2400 0 L0 0  Z\" fill=\"#ffffff\" fill-rule=\"evenodd\" fill-opacity=\"1\"/>\n",
       "<defs>\n",
       "  <clipPath id=\"clip541\">\n",
       "    <rect x=\"480\" y=\"0\" width=\"1681\" height=\"1600\"/>\n",
       "  </clipPath>\n",
       "</defs>\n",
       "<path clip-path=\"url(#clip540)\" d=\"M156.112 1486.45 L2352.76 1486.45 L2352.76 47.2441 L156.112 47.2441  Z\" fill=\"#ffffff\" fill-rule=\"evenodd\" fill-opacity=\"1\"/>\n",
       "<defs>\n",
       "  <clipPath id=\"clip542\">\n",
       "    <rect x=\"156\" y=\"47\" width=\"2198\" height=\"1440\"/>\n",
       "  </clipPath>\n",
       "</defs>\n",
       "<polyline clip-path=\"url(#clip542)\" style=\"stroke:#000000; stroke-linecap:round; stroke-linejoin:round; stroke-width:2; stroke-opacity:0.1; fill:none\" points=\"625.645,1486.45 625.645,47.2441 \"/>\n",
       "<polyline clip-path=\"url(#clip542)\" style=\"stroke:#000000; stroke-linecap:round; stroke-linejoin:round; stroke-width:2; stroke-opacity:0.1; fill:none\" points=\"1151.98,1486.45 1151.98,47.2441 \"/>\n",
       "<polyline clip-path=\"url(#clip542)\" style=\"stroke:#000000; stroke-linecap:round; stroke-linejoin:round; stroke-width:2; stroke-opacity:0.1; fill:none\" points=\"1678.32,1486.45 1678.32,47.2441 \"/>\n",
       "<polyline clip-path=\"url(#clip542)\" style=\"stroke:#000000; stroke-linecap:round; stroke-linejoin:round; stroke-width:2; stroke-opacity:0.1; fill:none\" points=\"2204.66,1486.45 2204.66,47.2441 \"/>\n",
       "<polyline clip-path=\"url(#clip540)\" style=\"stroke:#000000; stroke-linecap:round; stroke-linejoin:round; stroke-width:4; stroke-opacity:1; fill:none\" points=\"156.112,1486.45 2352.76,1486.45 \"/>\n",
       "<polyline clip-path=\"url(#clip540)\" style=\"stroke:#000000; stroke-linecap:round; stroke-linejoin:round; stroke-width:4; stroke-opacity:1; fill:none\" points=\"625.645,1486.45 625.645,1467.55 \"/>\n",
       "<polyline clip-path=\"url(#clip540)\" style=\"stroke:#000000; stroke-linecap:round; stroke-linejoin:round; stroke-width:4; stroke-opacity:1; fill:none\" points=\"1151.98,1486.45 1151.98,1467.55 \"/>\n",
       "<polyline clip-path=\"url(#clip540)\" style=\"stroke:#000000; stroke-linecap:round; stroke-linejoin:round; stroke-width:4; stroke-opacity:1; fill:none\" points=\"1678.32,1486.45 1678.32,1467.55 \"/>\n",
       "<polyline clip-path=\"url(#clip540)\" style=\"stroke:#000000; stroke-linecap:round; stroke-linejoin:round; stroke-width:4; stroke-opacity:1; fill:none\" points=\"2204.66,1486.45 2204.66,1467.55 \"/>\n",
       "<path clip-path=\"url(#clip540)\" d=\"M603.029 1517.37 Q599.418 1517.37 597.589 1520.93 Q595.784 1524.47 595.784 1531.6 Q595.784 1538.71 597.589 1542.27 Q599.418 1545.82 603.029 1545.82 Q606.663 1545.82 608.469 1542.27 Q610.298 1538.71 610.298 1531.6 Q610.298 1524.47 608.469 1520.93 Q606.663 1517.37 603.029 1517.37 M603.029 1513.66 Q608.839 1513.66 611.895 1518.27 Q614.974 1522.85 614.974 1531.6 Q614.974 1540.33 611.895 1544.94 Q608.839 1549.52 603.029 1549.52 Q597.219 1549.52 594.14 1544.94 Q591.085 1540.33 591.085 1531.6 Q591.085 1522.85 594.14 1518.27 Q597.219 1513.66 603.029 1513.66 Z\" fill=\"#000000\" fill-rule=\"evenodd\" fill-opacity=\"1\" /><path clip-path=\"url(#clip540)\" d=\"M623.191 1542.97 L628.075 1542.97 L628.075 1548.85 L623.191 1548.85 L623.191 1542.97 Z\" fill=\"#000000\" fill-rule=\"evenodd\" fill-opacity=\"1\" /><path clip-path=\"url(#clip540)\" d=\"M648.26 1517.37 Q644.649 1517.37 642.821 1520.93 Q641.015 1524.47 641.015 1531.6 Q641.015 1538.71 642.821 1542.27 Q644.649 1545.82 648.26 1545.82 Q651.895 1545.82 653.7 1542.27 Q655.529 1538.71 655.529 1531.6 Q655.529 1524.47 653.7 1520.93 Q651.895 1517.37 648.26 1517.37 M648.26 1513.66 Q654.071 1513.66 657.126 1518.27 Q660.205 1522.85 660.205 1531.6 Q660.205 1540.33 657.126 1544.94 Q654.071 1549.52 648.26 1549.52 Q642.45 1549.52 639.372 1544.94 Q636.316 1540.33 636.316 1531.6 Q636.316 1522.85 639.372 1518.27 Q642.45 1513.66 648.26 1513.66 Z\" fill=\"#000000\" fill-rule=\"evenodd\" fill-opacity=\"1\" /><path clip-path=\"url(#clip540)\" d=\"M1129.86 1517.37 Q1126.25 1517.37 1124.42 1520.93 Q1122.62 1524.47 1122.62 1531.6 Q1122.62 1538.71 1124.42 1542.27 Q1126.25 1545.82 1129.86 1545.82 Q1133.5 1545.82 1135.3 1542.27 Q1137.13 1538.71 1137.13 1531.6 Q1137.13 1524.47 1135.3 1520.93 Q1133.5 1517.37 1129.86 1517.37 M1129.86 1513.66 Q1135.67 1513.66 1138.73 1518.27 Q1141.81 1522.85 1141.81 1531.6 Q1141.81 1540.33 1138.73 1544.94 Q1135.67 1549.52 1129.86 1549.52 Q1124.05 1549.52 1120.98 1544.94 Q1117.92 1540.33 1117.92 1531.6 Q1117.92 1522.85 1120.98 1518.27 Q1124.05 1513.66 1129.86 1513.66 Z\" fill=\"#000000\" fill-rule=\"evenodd\" fill-opacity=\"1\" /><path clip-path=\"url(#clip540)\" d=\"M1150.03 1542.97 L1154.91 1542.97 L1154.91 1548.85 L1150.03 1548.85 L1150.03 1542.97 Z\" fill=\"#000000\" fill-rule=\"evenodd\" fill-opacity=\"1\" /><path clip-path=\"url(#clip540)\" d=\"M1165.14 1514.29 L1183.5 1514.29 L1183.5 1518.22 L1169.42 1518.22 L1169.42 1526.7 Q1170.44 1526.35 1171.46 1526.19 Q1172.48 1526 1173.5 1526 Q1179.29 1526 1182.67 1529.17 Q1186.04 1532.34 1186.04 1537.76 Q1186.04 1543.34 1182.57 1546.44 Q1179.1 1549.52 1172.78 1549.52 Q1170.6 1549.52 1168.34 1549.15 Q1166.09 1548.78 1163.68 1548.04 L1163.68 1543.34 Q1165.77 1544.47 1167.99 1545.03 Q1170.21 1545.58 1172.69 1545.58 Q1176.69 1545.58 1179.03 1543.48 Q1181.37 1541.37 1181.37 1537.76 Q1181.37 1534.15 1179.03 1532.04 Q1176.69 1529.94 1172.69 1529.94 Q1170.81 1529.94 1168.94 1530.35 Q1167.09 1530.77 1165.14 1531.65 L1165.14 1514.29 Z\" fill=\"#000000\" fill-rule=\"evenodd\" fill-opacity=\"1\" /><path clip-path=\"url(#clip540)\" d=\"M1645.47 1544.91 L1653.11 1544.91 L1653.11 1518.55 L1644.8 1520.21 L1644.8 1515.95 L1653.07 1514.29 L1657.74 1514.29 L1657.74 1544.91 L1665.38 1544.91 L1665.38 1548.85 L1645.47 1548.85 L1645.47 1544.91 Z\" fill=\"#000000\" fill-rule=\"evenodd\" fill-opacity=\"1\" /><path clip-path=\"url(#clip540)\" d=\"M1674.82 1542.97 L1679.71 1542.97 L1679.71 1548.85 L1674.82 1548.85 L1674.82 1542.97 Z\" fill=\"#000000\" fill-rule=\"evenodd\" fill-opacity=\"1\" /><path clip-path=\"url(#clip540)\" d=\"M1699.89 1517.37 Q1696.28 1517.37 1694.45 1520.93 Q1692.65 1524.47 1692.65 1531.6 Q1692.65 1538.71 1694.45 1542.27 Q1696.28 1545.82 1699.89 1545.82 Q1703.53 1545.82 1705.33 1542.27 Q1707.16 1538.71 1707.16 1531.6 Q1707.16 1524.47 1705.33 1520.93 Q1703.53 1517.37 1699.89 1517.37 M1699.89 1513.66 Q1705.7 1513.66 1708.76 1518.27 Q1711.84 1522.85 1711.84 1531.6 Q1711.84 1540.33 1708.76 1544.94 Q1705.7 1549.52 1699.89 1549.52 Q1694.08 1549.52 1691 1544.94 Q1687.95 1540.33 1687.95 1531.6 Q1687.95 1522.85 1691 1518.27 Q1694.08 1513.66 1699.89 1513.66 Z\" fill=\"#000000\" fill-rule=\"evenodd\" fill-opacity=\"1\" /><path clip-path=\"url(#clip540)\" d=\"M2172.31 1544.91 L2179.95 1544.91 L2179.95 1518.55 L2171.64 1520.21 L2171.64 1515.95 L2179.9 1514.29 L2184.58 1514.29 L2184.58 1544.91 L2192.22 1544.91 L2192.22 1548.85 L2172.31 1548.85 L2172.31 1544.91 Z\" fill=\"#000000\" fill-rule=\"evenodd\" fill-opacity=\"1\" /><path clip-path=\"url(#clip540)\" d=\"M2201.66 1542.97 L2206.54 1542.97 L2206.54 1548.85 L2201.66 1548.85 L2201.66 1542.97 Z\" fill=\"#000000\" fill-rule=\"evenodd\" fill-opacity=\"1\" /><path clip-path=\"url(#clip540)\" d=\"M2216.78 1514.29 L2235.13 1514.29 L2235.13 1518.22 L2221.06 1518.22 L2221.06 1526.7 Q2222.08 1526.35 2223.09 1526.19 Q2224.11 1526 2225.13 1526 Q2230.92 1526 2234.3 1529.17 Q2237.68 1532.34 2237.68 1537.76 Q2237.68 1543.34 2234.21 1546.44 Q2230.73 1549.52 2224.41 1549.52 Q2222.24 1549.52 2219.97 1549.15 Q2217.72 1548.78 2215.32 1548.04 L2215.32 1543.34 Q2217.4 1544.47 2219.62 1545.03 Q2221.84 1545.58 2224.32 1545.58 Q2228.33 1545.58 2230.66 1543.48 Q2233 1541.37 2233 1537.76 Q2233 1534.15 2230.66 1532.04 Q2228.33 1529.94 2224.32 1529.94 Q2222.45 1529.94 2220.57 1530.35 Q2218.72 1530.77 2216.78 1531.65 L2216.78 1514.29 Z\" fill=\"#000000\" fill-rule=\"evenodd\" fill-opacity=\"1\" /><polyline clip-path=\"url(#clip542)\" style=\"stroke:#000000; stroke-linecap:round; stroke-linejoin:round; stroke-width:2; stroke-opacity:0.1; fill:none\" points=\"156.112,1284.29 2352.76,1284.29 \"/>\n",
       "<polyline clip-path=\"url(#clip542)\" style=\"stroke:#000000; stroke-linecap:round; stroke-linejoin:round; stroke-width:2; stroke-opacity:0.1; fill:none\" points=\"156.112,1008.82 2352.76,1008.82 \"/>\n",
       "<polyline clip-path=\"url(#clip542)\" style=\"stroke:#000000; stroke-linecap:round; stroke-linejoin:round; stroke-width:2; stroke-opacity:0.1; fill:none\" points=\"156.112,733.355 2352.76,733.355 \"/>\n",
       "<polyline clip-path=\"url(#clip542)\" style=\"stroke:#000000; stroke-linecap:round; stroke-linejoin:round; stroke-width:2; stroke-opacity:0.1; fill:none\" points=\"156.112,457.887 2352.76,457.887 \"/>\n",
       "<polyline clip-path=\"url(#clip542)\" style=\"stroke:#000000; stroke-linecap:round; stroke-linejoin:round; stroke-width:2; stroke-opacity:0.1; fill:none\" points=\"156.112,182.418 2352.76,182.418 \"/>\n",
       "<polyline clip-path=\"url(#clip540)\" style=\"stroke:#000000; stroke-linecap:round; stroke-linejoin:round; stroke-width:4; stroke-opacity:1; fill:none\" points=\"156.112,1486.45 156.112,47.2441 \"/>\n",
       "<polyline clip-path=\"url(#clip540)\" style=\"stroke:#000000; stroke-linecap:round; stroke-linejoin:round; stroke-width:4; stroke-opacity:1; fill:none\" points=\"156.112,1284.29 175.01,1284.29 \"/>\n",
       "<polyline clip-path=\"url(#clip540)\" style=\"stroke:#000000; stroke-linecap:round; stroke-linejoin:round; stroke-width:4; stroke-opacity:1; fill:none\" points=\"156.112,1008.82 175.01,1008.82 \"/>\n",
       "<polyline clip-path=\"url(#clip540)\" style=\"stroke:#000000; stroke-linecap:round; stroke-linejoin:round; stroke-width:4; stroke-opacity:1; fill:none\" points=\"156.112,733.355 175.01,733.355 \"/>\n",
       "<polyline clip-path=\"url(#clip540)\" style=\"stroke:#000000; stroke-linecap:round; stroke-linejoin:round; stroke-width:4; stroke-opacity:1; fill:none\" points=\"156.112,457.887 175.01,457.887 \"/>\n",
       "<polyline clip-path=\"url(#clip540)\" style=\"stroke:#000000; stroke-linecap:round; stroke-linejoin:round; stroke-width:4; stroke-opacity:1; fill:none\" points=\"156.112,182.418 175.01,182.418 \"/>\n",
       "<path clip-path=\"url(#clip540)\" d=\"M62.9365 1270.09 Q59.3254 1270.09 57.4967 1273.65 Q55.6912 1277.2 55.6912 1284.33 Q55.6912 1291.43 57.4967 1295 Q59.3254 1298.54 62.9365 1298.54 Q66.5707 1298.54 68.3763 1295 Q70.205 1291.43 70.205 1284.33 Q70.205 1277.2 68.3763 1273.65 Q66.5707 1270.09 62.9365 1270.09 M62.9365 1266.39 Q68.7467 1266.39 71.8022 1270.99 Q74.8809 1275.58 74.8809 1284.33 Q74.8809 1293.05 71.8022 1297.66 Q68.7467 1302.24 62.9365 1302.24 Q57.1264 1302.24 54.0477 1297.66 Q50.9921 1293.05 50.9921 1284.33 Q50.9921 1275.58 54.0477 1270.99 Q57.1264 1266.39 62.9365 1266.39 Z\" fill=\"#000000\" fill-rule=\"evenodd\" fill-opacity=\"1\" /><path clip-path=\"url(#clip540)\" d=\"M83.0984 1295.69 L87.9827 1295.69 L87.9827 1301.57 L83.0984 1301.57 L83.0984 1295.69 Z\" fill=\"#000000\" fill-rule=\"evenodd\" fill-opacity=\"1\" /><path clip-path=\"url(#clip540)\" d=\"M108.168 1270.09 Q104.557 1270.09 102.728 1273.65 Q100.922 1277.2 100.922 1284.33 Q100.922 1291.43 102.728 1295 Q104.557 1298.54 108.168 1298.54 Q111.802 1298.54 113.608 1295 Q115.436 1291.43 115.436 1284.33 Q115.436 1277.2 113.608 1273.65 Q111.802 1270.09 108.168 1270.09 M108.168 1266.39 Q113.978 1266.39 117.033 1270.99 Q120.112 1275.58 120.112 1284.33 Q120.112 1293.05 117.033 1297.66 Q113.978 1302.24 108.168 1302.24 Q102.358 1302.24 99.2789 1297.66 Q96.2234 1293.05 96.2234 1284.33 Q96.2234 1275.58 99.2789 1270.99 Q102.358 1266.39 108.168 1266.39 Z\" fill=\"#000000\" fill-rule=\"evenodd\" fill-opacity=\"1\" /><path clip-path=\"url(#clip540)\" d=\"M63.9319 994.622 Q60.3208 994.622 58.4921 998.186 Q56.6865 1001.73 56.6865 1008.86 Q56.6865 1015.96 58.4921 1019.53 Q60.3208 1023.07 63.9319 1023.07 Q67.5661 1023.07 69.3717 1019.53 Q71.2004 1015.96 71.2004 1008.86 Q71.2004 1001.73 69.3717 998.186 Q67.5661 994.622 63.9319 994.622 M63.9319 990.918 Q69.742 990.918 72.7976 995.524 Q75.8763 1000.11 75.8763 1008.86 Q75.8763 1017.58 72.7976 1022.19 Q69.742 1026.77 63.9319 1026.77 Q58.1217 1026.77 55.043 1022.19 Q51.9875 1017.58 51.9875 1008.86 Q51.9875 1000.11 55.043 995.524 Q58.1217 990.918 63.9319 990.918 Z\" fill=\"#000000\" fill-rule=\"evenodd\" fill-opacity=\"1\" /><path clip-path=\"url(#clip540)\" d=\"M84.0938 1020.22 L88.978 1020.22 L88.978 1026.1 L84.0938 1026.1 L84.0938 1020.22 Z\" fill=\"#000000\" fill-rule=\"evenodd\" fill-opacity=\"1\" /><path clip-path=\"url(#clip540)\" d=\"M99.2095 991.543 L117.566 991.543 L117.566 995.478 L103.492 995.478 L103.492 1003.95 Q104.51 1003.6 105.529 1003.44 Q106.547 1003.26 107.566 1003.26 Q113.353 1003.26 116.733 1006.43 Q120.112 1009.6 120.112 1015.01 Q120.112 1020.59 116.64 1023.7 Q113.168 1026.77 106.848 1026.77 Q104.672 1026.77 102.404 1026.4 Q100.159 1026.03 97.7511 1025.29 L97.7511 1020.59 Q99.8345 1021.73 102.057 1022.28 Q104.279 1022.84 106.756 1022.84 Q110.76 1022.84 113.098 1020.73 Q115.436 1018.63 115.436 1015.01 Q115.436 1011.4 113.098 1009.3 Q110.76 1007.19 106.756 1007.19 Q104.881 1007.19 103.006 1007.61 Q101.154 1008.02 99.2095 1008.9 L99.2095 991.543 Z\" fill=\"#000000\" fill-rule=\"evenodd\" fill-opacity=\"1\" /><path clip-path=\"url(#clip540)\" d=\"M53.7467 746.7 L61.3856 746.7 L61.3856 720.334 L53.0754 722.001 L53.0754 717.741 L61.3393 716.075 L66.0152 716.075 L66.0152 746.7 L73.654 746.7 L73.654 750.635 L53.7467 750.635 L53.7467 746.7 Z\" fill=\"#000000\" fill-rule=\"evenodd\" fill-opacity=\"1\" /><path clip-path=\"url(#clip540)\" d=\"M83.0984 744.755 L87.9827 744.755 L87.9827 750.635 L83.0984 750.635 L83.0984 744.755 Z\" fill=\"#000000\" fill-rule=\"evenodd\" fill-opacity=\"1\" /><path clip-path=\"url(#clip540)\" d=\"M108.168 719.153 Q104.557 719.153 102.728 722.718 Q100.922 726.26 100.922 733.389 Q100.922 740.496 102.728 744.061 Q104.557 747.602 108.168 747.602 Q111.802 747.602 113.608 744.061 Q115.436 740.496 115.436 733.389 Q115.436 726.26 113.608 722.718 Q111.802 719.153 108.168 719.153 M108.168 715.45 Q113.978 715.45 117.033 720.056 Q120.112 724.639 120.112 733.389 Q120.112 742.116 117.033 746.723 Q113.978 751.306 108.168 751.306 Q102.358 751.306 99.2789 746.723 Q96.2234 742.116 96.2234 733.389 Q96.2234 724.639 99.2789 720.056 Q102.358 715.45 108.168 715.45 Z\" fill=\"#000000\" fill-rule=\"evenodd\" fill-opacity=\"1\" /><path clip-path=\"url(#clip540)\" d=\"M54.7421 471.231 L62.381 471.231 L62.381 444.866 L54.0708 446.532 L54.0708 442.273 L62.3347 440.607 L67.0106 440.607 L67.0106 471.231 L74.6494 471.231 L74.6494 475.167 L54.7421 475.167 L54.7421 471.231 Z\" fill=\"#000000\" fill-rule=\"evenodd\" fill-opacity=\"1\" /><path clip-path=\"url(#clip540)\" d=\"M84.0938 469.287 L88.978 469.287 L88.978 475.167 L84.0938 475.167 L84.0938 469.287 Z\" fill=\"#000000\" fill-rule=\"evenodd\" fill-opacity=\"1\" /><path clip-path=\"url(#clip540)\" d=\"M99.2095 440.607 L117.566 440.607 L117.566 444.542 L103.492 444.542 L103.492 453.014 Q104.51 452.667 105.529 452.505 Q106.547 452.319 107.566 452.319 Q113.353 452.319 116.733 455.491 Q120.112 458.662 120.112 464.079 Q120.112 469.657 116.64 472.759 Q113.168 475.838 106.848 475.838 Q104.672 475.838 102.404 475.468 Q100.159 475.097 97.7511 474.356 L97.7511 469.657 Q99.8345 470.792 102.057 471.347 Q104.279 471.903 106.756 471.903 Q110.76 471.903 113.098 469.796 Q115.436 467.69 115.436 464.079 Q115.436 460.468 113.098 458.361 Q110.76 456.255 106.756 456.255 Q104.881 456.255 103.006 456.671 Q101.154 457.088 99.2095 457.968 L99.2095 440.607 Z\" fill=\"#000000\" fill-rule=\"evenodd\" fill-opacity=\"1\" /><path clip-path=\"url(#clip540)\" d=\"M56.9643 195.763 L73.2837 195.763 L73.2837 199.698 L51.3393 199.698 L51.3393 195.763 Q54.0014 193.009 58.5847 188.379 Q63.1911 183.726 64.3717 182.384 Q66.617 179.861 67.4967 178.125 Q68.3994 176.365 68.3994 174.675 Q68.3994 171.921 66.455 170.185 Q64.5337 168.449 61.4319 168.449 Q59.2328 168.449 56.7791 169.213 Q54.3486 169.976 51.5708 171.527 L51.5708 166.805 Q54.3949 165.671 56.8486 165.092 Q59.3023 164.513 61.3393 164.513 Q66.7096 164.513 69.9041 167.199 Q73.0985 169.884 73.0985 174.375 Q73.0985 176.504 72.2883 178.425 Q71.5013 180.324 69.3948 182.916 Q68.8161 183.587 65.7143 186.805 Q62.6124 189.999 56.9643 195.763 Z\" fill=\"#000000\" fill-rule=\"evenodd\" fill-opacity=\"1\" /><path clip-path=\"url(#clip540)\" d=\"M83.0984 193.819 L87.9827 193.819 L87.9827 199.698 L83.0984 199.698 L83.0984 193.819 Z\" fill=\"#000000\" fill-rule=\"evenodd\" fill-opacity=\"1\" /><path clip-path=\"url(#clip540)\" d=\"M108.168 168.217 Q104.557 168.217 102.728 171.782 Q100.922 175.324 100.922 182.453 Q100.922 189.56 102.728 193.124 Q104.557 196.666 108.168 196.666 Q111.802 196.666 113.608 193.124 Q115.436 189.56 115.436 182.453 Q115.436 175.324 113.608 171.782 Q111.802 168.217 108.168 168.217 M108.168 164.513 Q113.978 164.513 117.033 169.12 Q120.112 173.703 120.112 182.453 Q120.112 191.18 117.033 195.786 Q113.978 200.37 108.168 200.37 Q102.358 200.37 99.2789 195.786 Q96.2234 191.18 96.2234 182.453 Q96.2234 173.703 99.2789 169.12 Q102.358 164.513 108.168 164.513 Z\" fill=\"#000000\" fill-rule=\"evenodd\" fill-opacity=\"1\" /><circle clip-path=\"url(#clip542)\" cx=\"363.78\" cy=\"1398.74\" r=\"14.4\" fill=\"#009af9\" fill-rule=\"evenodd\" fill-opacity=\"1\" stroke=\"#000000\" stroke-opacity=\"1\" stroke-width=\"3.2\"/>\n",
       "<circle clip-path=\"url(#clip542)\" cx=\"700.935\" cy=\"1424.21\" r=\"14.4\" fill=\"#009af9\" fill-rule=\"evenodd\" fill-opacity=\"1\" stroke=\"#000000\" stroke-opacity=\"1\" stroke-width=\"3.2\"/>\n",
       "<circle clip-path=\"url(#clip542)\" cx=\"218.281\" cy=\"1156.27\" r=\"14.4\" fill=\"#009af9\" fill-rule=\"evenodd\" fill-opacity=\"1\" stroke=\"#000000\" stroke-opacity=\"1\" stroke-width=\"3.2\"/>\n",
       "<circle clip-path=\"url(#clip542)\" cx=\"415.562\" cy=\"1207.71\" r=\"14.4\" fill=\"#009af9\" fill-rule=\"evenodd\" fill-opacity=\"1\" stroke=\"#000000\" stroke-opacity=\"1\" stroke-width=\"3.2\"/>\n",
       "<circle clip-path=\"url(#clip542)\" cx=\"506.625\" cy=\"1041.56\" r=\"14.4\" fill=\"#009af9\" fill-rule=\"evenodd\" fill-opacity=\"1\" stroke=\"#000000\" stroke-opacity=\"1\" stroke-width=\"3.2\"/>\n",
       "<circle clip-path=\"url(#clip542)\" cx=\"1069.97\" cy=\"1308.44\" r=\"14.4\" fill=\"#009af9\" fill-rule=\"evenodd\" fill-opacity=\"1\" stroke=\"#000000\" stroke-opacity=\"1\" stroke-width=\"3.2\"/>\n",
       "<circle clip-path=\"url(#clip542)\" cx=\"265.259\" cy=\"1042.73\" r=\"14.4\" fill=\"#009af9\" fill-rule=\"evenodd\" fill-opacity=\"1\" stroke=\"#000000\" stroke-opacity=\"1\" stroke-width=\"3.2\"/>\n",
       "<circle clip-path=\"url(#clip542)\" cx=\"473.036\" cy=\"1219.37\" r=\"14.4\" fill=\"#009af9\" fill-rule=\"evenodd\" fill-opacity=\"1\" stroke=\"#000000\" stroke-opacity=\"1\" stroke-width=\"3.2\"/>\n",
       "<circle clip-path=\"url(#clip542)\" cx=\"511.901\" cy=\"1100.43\" r=\"14.4\" fill=\"#009af9\" fill-rule=\"evenodd\" fill-opacity=\"1\" stroke=\"#000000\" stroke-opacity=\"1\" stroke-width=\"3.2\"/>\n",
       "<circle clip-path=\"url(#clip542)\" cx=\"1474.38\" cy=\"1397.51\" r=\"14.4\" fill=\"#009af9\" fill-rule=\"evenodd\" fill-opacity=\"1\" stroke=\"#000000\" stroke-opacity=\"1\" stroke-width=\"3.2\"/>\n",
       "<circle clip-path=\"url(#clip542)\" cx=\"499.133\" cy=\"1057.57\" r=\"14.4\" fill=\"#009af9\" fill-rule=\"evenodd\" fill-opacity=\"1\" stroke=\"#000000\" stroke-opacity=\"1\" stroke-width=\"3.2\"/>\n",
       "<circle clip-path=\"url(#clip542)\" cx=\"366.886\" cy=\"1107.73\" r=\"14.4\" fill=\"#009af9\" fill-rule=\"evenodd\" fill-opacity=\"1\" stroke=\"#000000\" stroke-opacity=\"1\" stroke-width=\"3.2\"/>\n",
       "<circle clip-path=\"url(#clip542)\" cx=\"686.318\" cy=\"864.538\" r=\"14.4\" fill=\"#009af9\" fill-rule=\"evenodd\" fill-opacity=\"1\" stroke=\"#000000\" stroke-opacity=\"1\" stroke-width=\"3.2\"/>\n",
       "<circle clip-path=\"url(#clip542)\" cx=\"317.657\" cy=\"918.532\" r=\"14.4\" fill=\"#009af9\" fill-rule=\"evenodd\" fill-opacity=\"1\" stroke=\"#000000\" stroke-opacity=\"1\" stroke-width=\"3.2\"/>\n",
       "<circle clip-path=\"url(#clip542)\" cx=\"820.007\" cy=\"1031.7\" r=\"14.4\" fill=\"#009af9\" fill-rule=\"evenodd\" fill-opacity=\"1\" stroke=\"#000000\" stroke-opacity=\"1\" stroke-width=\"3.2\"/>\n",
       "<circle clip-path=\"url(#clip542)\" cx=\"1068.96\" cy=\"1445.72\" r=\"14.4\" fill=\"#009af9\" fill-rule=\"evenodd\" fill-opacity=\"1\" stroke=\"#000000\" stroke-opacity=\"1\" stroke-width=\"3.2\"/>\n",
       "<circle clip-path=\"url(#clip542)\" cx=\"276.68\" cy=\"1210.28\" r=\"14.4\" fill=\"#009af9\" fill-rule=\"evenodd\" fill-opacity=\"1\" stroke=\"#000000\" stroke-opacity=\"1\" stroke-width=\"3.2\"/>\n",
       "<circle clip-path=\"url(#clip542)\" cx=\"2290.59\" cy=\"87.9763\" r=\"14.4\" fill=\"#009af9\" fill-rule=\"evenodd\" fill-opacity=\"1\" stroke=\"#000000\" stroke-opacity=\"1\" stroke-width=\"3.2\"/>\n",
       "<circle clip-path=\"url(#clip542)\" cx=\"589.84\" cy=\"1012.28\" r=\"14.4\" fill=\"#009af9\" fill-rule=\"evenodd\" fill-opacity=\"1\" stroke=\"#000000\" stroke-opacity=\"1\" stroke-width=\"3.2\"/>\n",
       "<circle clip-path=\"url(#clip542)\" cx=\"554.656\" cy=\"1193.29\" r=\"14.4\" fill=\"#009af9\" fill-rule=\"evenodd\" fill-opacity=\"1\" stroke=\"#000000\" stroke-opacity=\"1\" stroke-width=\"3.2\"/>\n",
       "<circle clip-path=\"url(#clip542)\" cx=\"478.814\" cy=\"1195.55\" r=\"14.4\" fill=\"#009af9\" fill-rule=\"evenodd\" fill-opacity=\"1\" stroke=\"#000000\" stroke-opacity=\"1\" stroke-width=\"3.2\"/>\n",
       "<circle clip-path=\"url(#clip542)\" cx=\"1200.25\" cy=\"1404.63\" r=\"14.4\" fill=\"#009af9\" fill-rule=\"evenodd\" fill-opacity=\"1\" stroke=\"#000000\" stroke-opacity=\"1\" stroke-width=\"3.2\"/>\n",
       "<circle clip-path=\"url(#clip542)\" cx=\"427.985\" cy=\"631.342\" r=\"14.4\" fill=\"#009af9\" fill-rule=\"evenodd\" fill-opacity=\"1\" stroke=\"#000000\" stroke-opacity=\"1\" stroke-width=\"3.2\"/>\n",
       "<circle clip-path=\"url(#clip542)\" cx=\"348.188\" cy=\"1052.36\" r=\"14.4\" fill=\"#009af9\" fill-rule=\"evenodd\" fill-opacity=\"1\" stroke=\"#000000\" stroke-opacity=\"1\" stroke-width=\"3.2\"/>\n",
       "<circle clip-path=\"url(#clip542)\" cx=\"861.704\" cy=\"1098.3\" r=\"14.4\" fill=\"#009af9\" fill-rule=\"evenodd\" fill-opacity=\"1\" stroke=\"#000000\" stroke-opacity=\"1\" stroke-width=\"3.2\"/>\n",
       "<circle clip-path=\"url(#clip542)\" cx=\"1213.05\" cy=\"1152.23\" r=\"14.4\" fill=\"#009af9\" fill-rule=\"evenodd\" fill-opacity=\"1\" stroke=\"#000000\" stroke-opacity=\"1\" stroke-width=\"3.2\"/>\n",
       "<circle clip-path=\"url(#clip542)\" cx=\"558.542\" cy=\"991.287\" r=\"14.4\" fill=\"#009af9\" fill-rule=\"evenodd\" fill-opacity=\"1\" stroke=\"#000000\" stroke-opacity=\"1\" stroke-width=\"3.2\"/>\n",
       "<g clip-path=\"url(#clip540)\">\n",
       "<text style=\"fill:#000000; fill-opacity:1; font-family:Century Gothic,CenturyGothic,AppleGothic,sans-serif; font-size:70px; text-anchor:middle;\" transform=\"rotate(0, 363.78, 1461.14)\" x=\"363.78\" y=\"1461.14\">.</text>\n",
       "</g>\n",
       "<g clip-path=\"url(#clip540)\">\n",
       "<text style=\"fill:#000000; fill-opacity:1; font-family:Century Gothic,CenturyGothic,AppleGothic,sans-serif; font-size:70px; text-anchor:middle;\" transform=\"rotate(0, 700.935, 1486.61)\" x=\"700.935\" y=\"1486.61\">a</text>\n",
       "</g>\n",
       "<g clip-path=\"url(#clip540)\">\n",
       "<text style=\"fill:#000000; fill-opacity:1; font-family:Century Gothic,CenturyGothic,AppleGothic,sans-serif; font-size:70px; text-anchor:middle;\" transform=\"rotate(0, 218.281, 1218.67)\" x=\"218.281\" y=\"1218.67\">b</text>\n",
       "</g>\n",
       "<g clip-path=\"url(#clip540)\">\n",
       "<text style=\"fill:#000000; fill-opacity:1; font-family:Century Gothic,CenturyGothic,AppleGothic,sans-serif; font-size:70px; text-anchor:middle;\" transform=\"rotate(0, 415.562, 1270.11)\" x=\"415.562\" y=\"1270.11\">c</text>\n",
       "</g>\n",
       "<g clip-path=\"url(#clip540)\">\n",
       "<text style=\"fill:#000000; fill-opacity:1; font-family:Century Gothic,CenturyGothic,AppleGothic,sans-serif; font-size:70px; text-anchor:middle;\" transform=\"rotate(0, 506.625, 1103.96)\" x=\"506.625\" y=\"1103.96\">d</text>\n",
       "</g>\n",
       "<g clip-path=\"url(#clip540)\">\n",
       "<text style=\"fill:#000000; fill-opacity:1; font-family:Century Gothic,CenturyGothic,AppleGothic,sans-serif; font-size:70px; text-anchor:middle;\" transform=\"rotate(0, 1069.97, 1370.84)\" x=\"1069.97\" y=\"1370.84\">e</text>\n",
       "</g>\n",
       "<g clip-path=\"url(#clip540)\">\n",
       "<text style=\"fill:#000000; fill-opacity:1; font-family:Century Gothic,CenturyGothic,AppleGothic,sans-serif; font-size:70px; text-anchor:middle;\" transform=\"rotate(0, 265.259, 1105.13)\" x=\"265.259\" y=\"1105.13\">f</text>\n",
       "</g>\n",
       "<g clip-path=\"url(#clip540)\">\n",
       "<text style=\"fill:#000000; fill-opacity:1; font-family:Century Gothic,CenturyGothic,AppleGothic,sans-serif; font-size:70px; text-anchor:middle;\" transform=\"rotate(0, 473.036, 1281.77)\" x=\"473.036\" y=\"1281.77\">g</text>\n",
       "</g>\n",
       "<g clip-path=\"url(#clip540)\">\n",
       "<text style=\"fill:#000000; fill-opacity:1; font-family:Century Gothic,CenturyGothic,AppleGothic,sans-serif; font-size:70px; text-anchor:middle;\" transform=\"rotate(0, 511.901, 1162.83)\" x=\"511.901\" y=\"1162.83\">h</text>\n",
       "</g>\n",
       "<g clip-path=\"url(#clip540)\">\n",
       "<text style=\"fill:#000000; fill-opacity:1; font-family:Century Gothic,CenturyGothic,AppleGothic,sans-serif; font-size:70px; text-anchor:middle;\" transform=\"rotate(0, 1474.38, 1459.91)\" x=\"1474.38\" y=\"1459.91\">i</text>\n",
       "</g>\n",
       "<g clip-path=\"url(#clip540)\">\n",
       "<text style=\"fill:#000000; fill-opacity:1; font-family:Century Gothic,CenturyGothic,AppleGothic,sans-serif; font-size:70px; text-anchor:middle;\" transform=\"rotate(0, 499.133, 1119.97)\" x=\"499.133\" y=\"1119.97\">j</text>\n",
       "</g>\n",
       "<g clip-path=\"url(#clip540)\">\n",
       "<text style=\"fill:#000000; fill-opacity:1; font-family:Century Gothic,CenturyGothic,AppleGothic,sans-serif; font-size:70px; text-anchor:middle;\" transform=\"rotate(0, 366.886, 1170.13)\" x=\"366.886\" y=\"1170.13\">k</text>\n",
       "</g>\n",
       "<g clip-path=\"url(#clip540)\">\n",
       "<text style=\"fill:#000000; fill-opacity:1; font-family:Century Gothic,CenturyGothic,AppleGothic,sans-serif; font-size:70px; text-anchor:middle;\" transform=\"rotate(0, 686.318, 926.938)\" x=\"686.318\" y=\"926.938\">l</text>\n",
       "</g>\n",
       "<g clip-path=\"url(#clip540)\">\n",
       "<text style=\"fill:#000000; fill-opacity:1; font-family:Century Gothic,CenturyGothic,AppleGothic,sans-serif; font-size:70px; text-anchor:middle;\" transform=\"rotate(0, 317.657, 980.932)\" x=\"317.657\" y=\"980.932\">m</text>\n",
       "</g>\n",
       "<g clip-path=\"url(#clip540)\">\n",
       "<text style=\"fill:#000000; fill-opacity:1; font-family:Century Gothic,CenturyGothic,AppleGothic,sans-serif; font-size:70px; text-anchor:middle;\" transform=\"rotate(0, 820.007, 1094.1)\" x=\"820.007\" y=\"1094.1\">n</text>\n",
       "</g>\n",
       "<g clip-path=\"url(#clip540)\">\n",
       "<text style=\"fill:#000000; fill-opacity:1; font-family:Century Gothic,CenturyGothic,AppleGothic,sans-serif; font-size:70px; text-anchor:middle;\" transform=\"rotate(0, 1068.96, 1508.12)\" x=\"1068.96\" y=\"1508.12\">o</text>\n",
       "</g>\n",
       "<g clip-path=\"url(#clip540)\">\n",
       "<text style=\"fill:#000000; fill-opacity:1; font-family:Century Gothic,CenturyGothic,AppleGothic,sans-serif; font-size:70px; text-anchor:middle;\" transform=\"rotate(0, 276.68, 1272.68)\" x=\"276.68\" y=\"1272.68\">p</text>\n",
       "</g>\n",
       "<g clip-path=\"url(#clip540)\">\n",
       "<text style=\"fill:#000000; fill-opacity:1; font-family:Century Gothic,CenturyGothic,AppleGothic,sans-serif; font-size:70px; text-anchor:middle;\" transform=\"rotate(0, 2290.59, 150.376)\" x=\"2290.59\" y=\"150.376\">q</text>\n",
       "</g>\n",
       "<g clip-path=\"url(#clip540)\">\n",
       "<text style=\"fill:#000000; fill-opacity:1; font-family:Century Gothic,CenturyGothic,AppleGothic,sans-serif; font-size:70px; text-anchor:middle;\" transform=\"rotate(0, 589.84, 1074.68)\" x=\"589.84\" y=\"1074.68\">r</text>\n",
       "</g>\n",
       "<g clip-path=\"url(#clip540)\">\n",
       "<text style=\"fill:#000000; fill-opacity:1; font-family:Century Gothic,CenturyGothic,AppleGothic,sans-serif; font-size:70px; text-anchor:middle;\" transform=\"rotate(0, 554.656, 1255.69)\" x=\"554.656\" y=\"1255.69\">s</text>\n",
       "</g>\n",
       "<g clip-path=\"url(#clip540)\">\n",
       "<text style=\"fill:#000000; fill-opacity:1; font-family:Century Gothic,CenturyGothic,AppleGothic,sans-serif; font-size:70px; text-anchor:middle;\" transform=\"rotate(0, 478.814, 1257.95)\" x=\"478.814\" y=\"1257.95\">t</text>\n",
       "</g>\n",
       "<g clip-path=\"url(#clip540)\">\n",
       "<text style=\"fill:#000000; fill-opacity:1; font-family:Century Gothic,CenturyGothic,AppleGothic,sans-serif; font-size:70px; text-anchor:middle;\" transform=\"rotate(0, 1200.25, 1467.03)\" x=\"1200.25\" y=\"1467.03\">u</text>\n",
       "</g>\n",
       "<g clip-path=\"url(#clip540)\">\n",
       "<text style=\"fill:#000000; fill-opacity:1; font-family:Century Gothic,CenturyGothic,AppleGothic,sans-serif; font-size:70px; text-anchor:middle;\" transform=\"rotate(0, 427.985, 693.742)\" x=\"427.985\" y=\"693.742\">v</text>\n",
       "</g>\n",
       "<g clip-path=\"url(#clip540)\">\n",
       "<text style=\"fill:#000000; fill-opacity:1; font-family:Century Gothic,CenturyGothic,AppleGothic,sans-serif; font-size:70px; text-anchor:middle;\" transform=\"rotate(0, 348.188, 1114.76)\" x=\"348.188\" y=\"1114.76\">w</text>\n",
       "</g>\n",
       "<g clip-path=\"url(#clip540)\">\n",
       "<text style=\"fill:#000000; fill-opacity:1; font-family:Century Gothic,CenturyGothic,AppleGothic,sans-serif; font-size:70px; text-anchor:middle;\" transform=\"rotate(0, 861.704, 1160.7)\" x=\"861.704\" y=\"1160.7\">x</text>\n",
       "</g>\n",
       "<g clip-path=\"url(#clip540)\">\n",
       "<text style=\"fill:#000000; fill-opacity:1; font-family:Century Gothic,CenturyGothic,AppleGothic,sans-serif; font-size:70px; text-anchor:middle;\" transform=\"rotate(0, 1213.05, 1214.63)\" x=\"1213.05\" y=\"1214.63\">y</text>\n",
       "</g>\n",
       "<g clip-path=\"url(#clip540)\">\n",
       "<text style=\"fill:#000000; fill-opacity:1; font-family:Century Gothic,CenturyGothic,AppleGothic,sans-serif; font-size:70px; text-anchor:middle;\" transform=\"rotate(0, 558.542, 1053.69)\" x=\"558.542\" y=\"1053.69\">z</text>\n",
       "</g>\n",
       "</svg>\n"
      ]
     },
     "execution_count": 163,
     "metadata": {},
     "output_type": "execute_result"
    },
    {
     "name": "stderr",
     "output_type": "stream",
     "text": [
      "GKS: could not find font monospace.ttf\n"
     ]
    }
   ],
   "source": [
    "C_ = mlp[1].weight\n",
    "# plotly()\n",
    "scatter(C_[1,:], C_[2,:], series_annotations = text.(vocab, :top, 12, family=\"monospace\"), label=\"\")"
   ]
  },
  {
   "cell_type": "code",
   "execution_count": 124,
   "id": "f6088467",
   "metadata": {},
   "outputs": [
    {
     "data": {
      "text/plain": [
       "2.3920593f0"
      ]
     },
     "execution_count": 124,
     "metadata": {},
     "output_type": "execute_result"
    }
   ],
   "source": [
    "Flux.Losses.logitcrossentropy(mlp(Xdev), Flux.onehotbatch(Ydev[:], 1:length(vocab)))"
   ]
  },
  {
   "cell_type": "code",
   "execution_count": 125,
   "id": "a34210cc",
   "metadata": {},
   "outputs": [
    {
     "data": {
      "text/plain": [
       "2.3890026f0"
      ]
     },
     "execution_count": 125,
     "metadata": {},
     "output_type": "execute_result"
    }
   ],
   "source": [
    "Flux.Losses.logitcrossentropy(mlp(Xte), Flux.onehotbatch(Yte[:], 1:length(vocab)))"
   ]
  },
  {
   "cell_type": "code",
   "execution_count": 152,
   "id": "c514a930",
   "metadata": {},
   "outputs": [
    {
     "data": {
      "text/plain": [
       "Chain(\n",
       "  Embedding(27 => 2),                   \u001b[90m# 54 parameters\u001b[39m\n",
       "  Flux.flatten,\n",
       "  Parallel(\n",
       "    +,\n",
       "    Dense(6 => 27; bias=false),         \u001b[90m# 162 parameters\u001b[39m\n",
       "    Chain(\n",
       "      Dense(6 => 200, relu),            \u001b[90m# 1_400 parameters\u001b[39m\n",
       "      Dense(200 => 27),                 \u001b[90m# 5_427 parameters\u001b[39m\n",
       "    ),\n",
       "  ),\n",
       ") \u001b[90m                  # Total: 6 arrays, \u001b[39m7_043 parameters, 28.066 KiB."
      ]
     },
     "execution_count": 152,
     "metadata": {},
     "output_type": "execute_result"
    }
   ],
   "source": [
    "# # model 2 with residual connection\n",
    "h1_ = 200\n",
    "dim_ = 2\n",
    "act = relu\n",
    "mlp_res = Chain(\n",
    "    Embedding(length(vocab) => dim), \n",
    "    Flux.flatten, \n",
    "    Parallel(+, Dense(block_size * dim => length(vocab); bias=false), Chain(Dense(block_size * dim => h1_, act), \n",
    "    Dense(h1_, length(vocab))))\n",
    ")"
   ]
  },
  {
   "cell_type": "code",
   "execution_count": 153,
   "id": "6c7c2d74",
   "metadata": {},
   "outputs": [
    {
     "name": "stderr",
     "output_type": "stream",
     "text": [
      "\u001b[32mProgress: 100%|█████████████████████████████████████████| Time: 0:03:37\u001b[39m\n"
     ]
    }
   ],
   "source": [
    "losses_res = []\n",
    "optim = Flux.setup(Flux.Adam(0.01), mlp_res)\n",
    "@showprogress for epoch in 1:300\n",
    "    for (x, y) in mini_batches\n",
    "        loss, grads = Flux.withgradient(mlp_res) do m\n",
    "            ŷ = m(x)\n",
    "            Flux.Losses.logitcrossentropy(ŷ, y)\n",
    "        end\n",
    "        Flux.update!(optim, mlp_res, grads[1])\n",
    "        push!(losses_res, loss)\n",
    "    end\n",
    "end"
   ]
  },
  {
   "cell_type": "code",
   "execution_count": 188,
   "id": "4c4f5770",
   "metadata": {},
   "outputs": [],
   "source": [
    "plot(losses_res; xaxis=(:log, \"iteration\"),\n",
    "    yaxis=\"loss\", label=\"per batch\");\n",
    "n = length(mini_batches)\n",
    "plot!(n:n:length(losses_res), mean.(Iterators.partition(losses_res, n)),\n",
    "    label=\"epoch mean\", dpi=200);"
   ]
  },
  {
   "cell_type": "code",
   "execution_count": 166,
   "id": "9bc75b24",
   "metadata": {},
   "outputs": [
    {
     "data": {
      "image/svg+xml": [
       "<?xml version=\"1.0\" encoding=\"utf-8\"?>\n",
       "<svg xmlns=\"http://www.w3.org/2000/svg\" xmlns:xlink=\"http://www.w3.org/1999/xlink\" width=\"600\" height=\"400\" viewBox=\"0 0 2400 1600\">\n",
       "<defs>\n",
       "  <clipPath id=\"clip620\">\n",
       "    <rect x=\"0\" y=\"0\" width=\"2400\" height=\"1600\"/>\n",
       "  </clipPath>\n",
       "</defs>\n",
       "<path clip-path=\"url(#clip620)\" d=\"M0 1600 L2400 1600 L2400 0 L0 0  Z\" fill=\"#ffffff\" fill-rule=\"evenodd\" fill-opacity=\"1\"/>\n",
       "<defs>\n",
       "  <clipPath id=\"clip621\">\n",
       "    <rect x=\"480\" y=\"0\" width=\"1681\" height=\"1600\"/>\n",
       "  </clipPath>\n",
       "</defs>\n",
       "<path clip-path=\"url(#clip620)\" d=\"M156.112 1486.45 L2352.76 1486.45 L2352.76 47.2441 L156.112 47.2441  Z\" fill=\"#ffffff\" fill-rule=\"evenodd\" fill-opacity=\"1\"/>\n",
       "<defs>\n",
       "  <clipPath id=\"clip622\">\n",
       "    <rect x=\"156\" y=\"47\" width=\"2198\" height=\"1440\"/>\n",
       "  </clipPath>\n",
       "</defs>\n",
       "<polyline clip-path=\"url(#clip622)\" style=\"stroke:#000000; stroke-linecap:round; stroke-linejoin:round; stroke-width:2; stroke-opacity:0.1; fill:none\" points=\"625.645,1486.45 625.645,47.2441 \"/>\n",
       "<polyline clip-path=\"url(#clip622)\" style=\"stroke:#000000; stroke-linecap:round; stroke-linejoin:round; stroke-width:2; stroke-opacity:0.1; fill:none\" points=\"1151.98,1486.45 1151.98,47.2441 \"/>\n",
       "<polyline clip-path=\"url(#clip622)\" style=\"stroke:#000000; stroke-linecap:round; stroke-linejoin:round; stroke-width:2; stroke-opacity:0.1; fill:none\" points=\"1678.32,1486.45 1678.32,47.2441 \"/>\n",
       "<polyline clip-path=\"url(#clip622)\" style=\"stroke:#000000; stroke-linecap:round; stroke-linejoin:round; stroke-width:2; stroke-opacity:0.1; fill:none\" points=\"2204.66,1486.45 2204.66,47.2441 \"/>\n",
       "<polyline clip-path=\"url(#clip620)\" style=\"stroke:#000000; stroke-linecap:round; stroke-linejoin:round; stroke-width:4; stroke-opacity:1; fill:none\" points=\"156.112,1486.45 2352.76,1486.45 \"/>\n",
       "<polyline clip-path=\"url(#clip620)\" style=\"stroke:#000000; stroke-linecap:round; stroke-linejoin:round; stroke-width:4; stroke-opacity:1; fill:none\" points=\"625.645,1486.45 625.645,1467.55 \"/>\n",
       "<polyline clip-path=\"url(#clip620)\" style=\"stroke:#000000; stroke-linecap:round; stroke-linejoin:round; stroke-width:4; stroke-opacity:1; fill:none\" points=\"1151.98,1486.45 1151.98,1467.55 \"/>\n",
       "<polyline clip-path=\"url(#clip620)\" style=\"stroke:#000000; stroke-linecap:round; stroke-linejoin:round; stroke-width:4; stroke-opacity:1; fill:none\" points=\"1678.32,1486.45 1678.32,1467.55 \"/>\n",
       "<polyline clip-path=\"url(#clip620)\" style=\"stroke:#000000; stroke-linecap:round; stroke-linejoin:round; stroke-width:4; stroke-opacity:1; fill:none\" points=\"2204.66,1486.45 2204.66,1467.55 \"/>\n",
       "<path clip-path=\"url(#clip620)\" d=\"M603.029 1517.37 Q599.418 1517.37 597.589 1520.93 Q595.784 1524.47 595.784 1531.6 Q595.784 1538.71 597.589 1542.27 Q599.418 1545.82 603.029 1545.82 Q606.663 1545.82 608.469 1542.27 Q610.298 1538.71 610.298 1531.6 Q610.298 1524.47 608.469 1520.93 Q606.663 1517.37 603.029 1517.37 M603.029 1513.66 Q608.839 1513.66 611.895 1518.27 Q614.974 1522.85 614.974 1531.6 Q614.974 1540.33 611.895 1544.94 Q608.839 1549.52 603.029 1549.52 Q597.219 1549.52 594.14 1544.94 Q591.085 1540.33 591.085 1531.6 Q591.085 1522.85 594.14 1518.27 Q597.219 1513.66 603.029 1513.66 Z\" fill=\"#000000\" fill-rule=\"evenodd\" fill-opacity=\"1\" /><path clip-path=\"url(#clip620)\" d=\"M623.191 1542.97 L628.075 1542.97 L628.075 1548.85 L623.191 1548.85 L623.191 1542.97 Z\" fill=\"#000000\" fill-rule=\"evenodd\" fill-opacity=\"1\" /><path clip-path=\"url(#clip620)\" d=\"M648.26 1517.37 Q644.649 1517.37 642.821 1520.93 Q641.015 1524.47 641.015 1531.6 Q641.015 1538.71 642.821 1542.27 Q644.649 1545.82 648.26 1545.82 Q651.895 1545.82 653.7 1542.27 Q655.529 1538.71 655.529 1531.6 Q655.529 1524.47 653.7 1520.93 Q651.895 1517.37 648.26 1517.37 M648.26 1513.66 Q654.071 1513.66 657.126 1518.27 Q660.205 1522.85 660.205 1531.6 Q660.205 1540.33 657.126 1544.94 Q654.071 1549.52 648.26 1549.52 Q642.45 1549.52 639.372 1544.94 Q636.316 1540.33 636.316 1531.6 Q636.316 1522.85 639.372 1518.27 Q642.45 1513.66 648.26 1513.66 Z\" fill=\"#000000\" fill-rule=\"evenodd\" fill-opacity=\"1\" /><path clip-path=\"url(#clip620)\" d=\"M1129.86 1517.37 Q1126.25 1517.37 1124.42 1520.93 Q1122.62 1524.47 1122.62 1531.6 Q1122.62 1538.71 1124.42 1542.27 Q1126.25 1545.82 1129.86 1545.82 Q1133.5 1545.82 1135.3 1542.27 Q1137.13 1538.71 1137.13 1531.6 Q1137.13 1524.47 1135.3 1520.93 Q1133.5 1517.37 1129.86 1517.37 M1129.86 1513.66 Q1135.67 1513.66 1138.73 1518.27 Q1141.81 1522.85 1141.81 1531.6 Q1141.81 1540.33 1138.73 1544.94 Q1135.67 1549.52 1129.86 1549.52 Q1124.05 1549.52 1120.98 1544.94 Q1117.92 1540.33 1117.92 1531.6 Q1117.92 1522.85 1120.98 1518.27 Q1124.05 1513.66 1129.86 1513.66 Z\" fill=\"#000000\" fill-rule=\"evenodd\" fill-opacity=\"1\" /><path clip-path=\"url(#clip620)\" d=\"M1150.03 1542.97 L1154.91 1542.97 L1154.91 1548.85 L1150.03 1548.85 L1150.03 1542.97 Z\" fill=\"#000000\" fill-rule=\"evenodd\" fill-opacity=\"1\" /><path clip-path=\"url(#clip620)\" d=\"M1165.14 1514.29 L1183.5 1514.29 L1183.5 1518.22 L1169.42 1518.22 L1169.42 1526.7 Q1170.44 1526.35 1171.46 1526.19 Q1172.48 1526 1173.5 1526 Q1179.29 1526 1182.67 1529.17 Q1186.04 1532.34 1186.04 1537.76 Q1186.04 1543.34 1182.57 1546.44 Q1179.1 1549.52 1172.78 1549.52 Q1170.6 1549.52 1168.34 1549.15 Q1166.09 1548.78 1163.68 1548.04 L1163.68 1543.34 Q1165.77 1544.47 1167.99 1545.03 Q1170.21 1545.58 1172.69 1545.58 Q1176.69 1545.58 1179.03 1543.48 Q1181.37 1541.37 1181.37 1537.76 Q1181.37 1534.15 1179.03 1532.04 Q1176.69 1529.94 1172.69 1529.94 Q1170.81 1529.94 1168.94 1530.35 Q1167.09 1530.77 1165.14 1531.65 L1165.14 1514.29 Z\" fill=\"#000000\" fill-rule=\"evenodd\" fill-opacity=\"1\" /><path clip-path=\"url(#clip620)\" d=\"M1645.47 1544.91 L1653.11 1544.91 L1653.11 1518.55 L1644.8 1520.21 L1644.8 1515.95 L1653.07 1514.29 L1657.74 1514.29 L1657.74 1544.91 L1665.38 1544.91 L1665.38 1548.85 L1645.47 1548.85 L1645.47 1544.91 Z\" fill=\"#000000\" fill-rule=\"evenodd\" fill-opacity=\"1\" /><path clip-path=\"url(#clip620)\" d=\"M1674.82 1542.97 L1679.71 1542.97 L1679.71 1548.85 L1674.82 1548.85 L1674.82 1542.97 Z\" fill=\"#000000\" fill-rule=\"evenodd\" fill-opacity=\"1\" /><path clip-path=\"url(#clip620)\" d=\"M1699.89 1517.37 Q1696.28 1517.37 1694.45 1520.93 Q1692.65 1524.47 1692.65 1531.6 Q1692.65 1538.71 1694.45 1542.27 Q1696.28 1545.82 1699.89 1545.82 Q1703.53 1545.82 1705.33 1542.27 Q1707.16 1538.71 1707.16 1531.6 Q1707.16 1524.47 1705.33 1520.93 Q1703.53 1517.37 1699.89 1517.37 M1699.89 1513.66 Q1705.7 1513.66 1708.76 1518.27 Q1711.84 1522.85 1711.84 1531.6 Q1711.84 1540.33 1708.76 1544.94 Q1705.7 1549.52 1699.89 1549.52 Q1694.08 1549.52 1691 1544.94 Q1687.95 1540.33 1687.95 1531.6 Q1687.95 1522.85 1691 1518.27 Q1694.08 1513.66 1699.89 1513.66 Z\" fill=\"#000000\" fill-rule=\"evenodd\" fill-opacity=\"1\" /><path clip-path=\"url(#clip620)\" d=\"M2172.31 1544.91 L2179.95 1544.91 L2179.95 1518.55 L2171.64 1520.21 L2171.64 1515.95 L2179.9 1514.29 L2184.58 1514.29 L2184.58 1544.91 L2192.22 1544.91 L2192.22 1548.85 L2172.31 1548.85 L2172.31 1544.91 Z\" fill=\"#000000\" fill-rule=\"evenodd\" fill-opacity=\"1\" /><path clip-path=\"url(#clip620)\" d=\"M2201.66 1542.97 L2206.54 1542.97 L2206.54 1548.85 L2201.66 1548.85 L2201.66 1542.97 Z\" fill=\"#000000\" fill-rule=\"evenodd\" fill-opacity=\"1\" /><path clip-path=\"url(#clip620)\" d=\"M2216.78 1514.29 L2235.13 1514.29 L2235.13 1518.22 L2221.06 1518.22 L2221.06 1526.7 Q2222.08 1526.35 2223.09 1526.19 Q2224.11 1526 2225.13 1526 Q2230.92 1526 2234.3 1529.17 Q2237.68 1532.34 2237.68 1537.76 Q2237.68 1543.34 2234.21 1546.44 Q2230.73 1549.52 2224.41 1549.52 Q2222.24 1549.52 2219.97 1549.15 Q2217.72 1548.78 2215.32 1548.04 L2215.32 1543.34 Q2217.4 1544.47 2219.62 1545.03 Q2221.84 1545.58 2224.32 1545.58 Q2228.33 1545.58 2230.66 1543.48 Q2233 1541.37 2233 1537.76 Q2233 1534.15 2230.66 1532.04 Q2228.33 1529.94 2224.32 1529.94 Q2222.45 1529.94 2220.57 1530.35 Q2218.72 1530.77 2216.78 1531.65 L2216.78 1514.29 Z\" fill=\"#000000\" fill-rule=\"evenodd\" fill-opacity=\"1\" /><polyline clip-path=\"url(#clip622)\" style=\"stroke:#000000; stroke-linecap:round; stroke-linejoin:round; stroke-width:2; stroke-opacity:0.1; fill:none\" points=\"156.112,1284.29 2352.76,1284.29 \"/>\n",
       "<polyline clip-path=\"url(#clip622)\" style=\"stroke:#000000; stroke-linecap:round; stroke-linejoin:round; stroke-width:2; stroke-opacity:0.1; fill:none\" points=\"156.112,1008.82 2352.76,1008.82 \"/>\n",
       "<polyline clip-path=\"url(#clip622)\" style=\"stroke:#000000; stroke-linecap:round; stroke-linejoin:round; stroke-width:2; stroke-opacity:0.1; fill:none\" points=\"156.112,733.355 2352.76,733.355 \"/>\n",
       "<polyline clip-path=\"url(#clip622)\" style=\"stroke:#000000; stroke-linecap:round; stroke-linejoin:round; stroke-width:2; stroke-opacity:0.1; fill:none\" points=\"156.112,457.887 2352.76,457.887 \"/>\n",
       "<polyline clip-path=\"url(#clip622)\" style=\"stroke:#000000; stroke-linecap:round; stroke-linejoin:round; stroke-width:2; stroke-opacity:0.1; fill:none\" points=\"156.112,182.418 2352.76,182.418 \"/>\n",
       "<polyline clip-path=\"url(#clip620)\" style=\"stroke:#000000; stroke-linecap:round; stroke-linejoin:round; stroke-width:4; stroke-opacity:1; fill:none\" points=\"156.112,1486.45 156.112,47.2441 \"/>\n",
       "<polyline clip-path=\"url(#clip620)\" style=\"stroke:#000000; stroke-linecap:round; stroke-linejoin:round; stroke-width:4; stroke-opacity:1; fill:none\" points=\"156.112,1284.29 175.01,1284.29 \"/>\n",
       "<polyline clip-path=\"url(#clip620)\" style=\"stroke:#000000; stroke-linecap:round; stroke-linejoin:round; stroke-width:4; stroke-opacity:1; fill:none\" points=\"156.112,1008.82 175.01,1008.82 \"/>\n",
       "<polyline clip-path=\"url(#clip620)\" style=\"stroke:#000000; stroke-linecap:round; stroke-linejoin:round; stroke-width:4; stroke-opacity:1; fill:none\" points=\"156.112,733.355 175.01,733.355 \"/>\n",
       "<polyline clip-path=\"url(#clip620)\" style=\"stroke:#000000; stroke-linecap:round; stroke-linejoin:round; stroke-width:4; stroke-opacity:1; fill:none\" points=\"156.112,457.887 175.01,457.887 \"/>\n",
       "<polyline clip-path=\"url(#clip620)\" style=\"stroke:#000000; stroke-linecap:round; stroke-linejoin:round; stroke-width:4; stroke-opacity:1; fill:none\" points=\"156.112,182.418 175.01,182.418 \"/>\n",
       "<path clip-path=\"url(#clip620)\" d=\"M62.9365 1270.09 Q59.3254 1270.09 57.4967 1273.65 Q55.6912 1277.2 55.6912 1284.33 Q55.6912 1291.43 57.4967 1295 Q59.3254 1298.54 62.9365 1298.54 Q66.5707 1298.54 68.3763 1295 Q70.205 1291.43 70.205 1284.33 Q70.205 1277.2 68.3763 1273.65 Q66.5707 1270.09 62.9365 1270.09 M62.9365 1266.39 Q68.7467 1266.39 71.8022 1270.99 Q74.8809 1275.58 74.8809 1284.33 Q74.8809 1293.05 71.8022 1297.66 Q68.7467 1302.24 62.9365 1302.24 Q57.1264 1302.24 54.0477 1297.66 Q50.9921 1293.05 50.9921 1284.33 Q50.9921 1275.58 54.0477 1270.99 Q57.1264 1266.39 62.9365 1266.39 Z\" fill=\"#000000\" fill-rule=\"evenodd\" fill-opacity=\"1\" /><path clip-path=\"url(#clip620)\" d=\"M83.0984 1295.69 L87.9827 1295.69 L87.9827 1301.57 L83.0984 1301.57 L83.0984 1295.69 Z\" fill=\"#000000\" fill-rule=\"evenodd\" fill-opacity=\"1\" /><path clip-path=\"url(#clip620)\" d=\"M108.168 1270.09 Q104.557 1270.09 102.728 1273.65 Q100.922 1277.2 100.922 1284.33 Q100.922 1291.43 102.728 1295 Q104.557 1298.54 108.168 1298.54 Q111.802 1298.54 113.608 1295 Q115.436 1291.43 115.436 1284.33 Q115.436 1277.2 113.608 1273.65 Q111.802 1270.09 108.168 1270.09 M108.168 1266.39 Q113.978 1266.39 117.033 1270.99 Q120.112 1275.58 120.112 1284.33 Q120.112 1293.05 117.033 1297.66 Q113.978 1302.24 108.168 1302.24 Q102.358 1302.24 99.2789 1297.66 Q96.2234 1293.05 96.2234 1284.33 Q96.2234 1275.58 99.2789 1270.99 Q102.358 1266.39 108.168 1266.39 Z\" fill=\"#000000\" fill-rule=\"evenodd\" fill-opacity=\"1\" /><path clip-path=\"url(#clip620)\" d=\"M63.9319 994.622 Q60.3208 994.622 58.4921 998.186 Q56.6865 1001.73 56.6865 1008.86 Q56.6865 1015.96 58.4921 1019.53 Q60.3208 1023.07 63.9319 1023.07 Q67.5661 1023.07 69.3717 1019.53 Q71.2004 1015.96 71.2004 1008.86 Q71.2004 1001.73 69.3717 998.186 Q67.5661 994.622 63.9319 994.622 M63.9319 990.918 Q69.742 990.918 72.7976 995.524 Q75.8763 1000.11 75.8763 1008.86 Q75.8763 1017.58 72.7976 1022.19 Q69.742 1026.77 63.9319 1026.77 Q58.1217 1026.77 55.043 1022.19 Q51.9875 1017.58 51.9875 1008.86 Q51.9875 1000.11 55.043 995.524 Q58.1217 990.918 63.9319 990.918 Z\" fill=\"#000000\" fill-rule=\"evenodd\" fill-opacity=\"1\" /><path clip-path=\"url(#clip620)\" d=\"M84.0938 1020.22 L88.978 1020.22 L88.978 1026.1 L84.0938 1026.1 L84.0938 1020.22 Z\" fill=\"#000000\" fill-rule=\"evenodd\" fill-opacity=\"1\" /><path clip-path=\"url(#clip620)\" d=\"M99.2095 991.543 L117.566 991.543 L117.566 995.478 L103.492 995.478 L103.492 1003.95 Q104.51 1003.6 105.529 1003.44 Q106.547 1003.26 107.566 1003.26 Q113.353 1003.26 116.733 1006.43 Q120.112 1009.6 120.112 1015.01 Q120.112 1020.59 116.64 1023.7 Q113.168 1026.77 106.848 1026.77 Q104.672 1026.77 102.404 1026.4 Q100.159 1026.03 97.7511 1025.29 L97.7511 1020.59 Q99.8345 1021.73 102.057 1022.28 Q104.279 1022.84 106.756 1022.84 Q110.76 1022.84 113.098 1020.73 Q115.436 1018.63 115.436 1015.01 Q115.436 1011.4 113.098 1009.3 Q110.76 1007.19 106.756 1007.19 Q104.881 1007.19 103.006 1007.61 Q101.154 1008.02 99.2095 1008.9 L99.2095 991.543 Z\" fill=\"#000000\" fill-rule=\"evenodd\" fill-opacity=\"1\" /><path clip-path=\"url(#clip620)\" d=\"M53.7467 746.7 L61.3856 746.7 L61.3856 720.334 L53.0754 722.001 L53.0754 717.741 L61.3393 716.075 L66.0152 716.075 L66.0152 746.7 L73.654 746.7 L73.654 750.635 L53.7467 750.635 L53.7467 746.7 Z\" fill=\"#000000\" fill-rule=\"evenodd\" fill-opacity=\"1\" /><path clip-path=\"url(#clip620)\" d=\"M83.0984 744.755 L87.9827 744.755 L87.9827 750.635 L83.0984 750.635 L83.0984 744.755 Z\" fill=\"#000000\" fill-rule=\"evenodd\" fill-opacity=\"1\" /><path clip-path=\"url(#clip620)\" d=\"M108.168 719.153 Q104.557 719.153 102.728 722.718 Q100.922 726.26 100.922 733.389 Q100.922 740.496 102.728 744.061 Q104.557 747.602 108.168 747.602 Q111.802 747.602 113.608 744.061 Q115.436 740.496 115.436 733.389 Q115.436 726.26 113.608 722.718 Q111.802 719.153 108.168 719.153 M108.168 715.45 Q113.978 715.45 117.033 720.056 Q120.112 724.639 120.112 733.389 Q120.112 742.116 117.033 746.723 Q113.978 751.306 108.168 751.306 Q102.358 751.306 99.2789 746.723 Q96.2234 742.116 96.2234 733.389 Q96.2234 724.639 99.2789 720.056 Q102.358 715.45 108.168 715.45 Z\" fill=\"#000000\" fill-rule=\"evenodd\" fill-opacity=\"1\" /><path clip-path=\"url(#clip620)\" d=\"M54.7421 471.231 L62.381 471.231 L62.381 444.866 L54.0708 446.532 L54.0708 442.273 L62.3347 440.607 L67.0106 440.607 L67.0106 471.231 L74.6494 471.231 L74.6494 475.167 L54.7421 475.167 L54.7421 471.231 Z\" fill=\"#000000\" fill-rule=\"evenodd\" fill-opacity=\"1\" /><path clip-path=\"url(#clip620)\" d=\"M84.0938 469.287 L88.978 469.287 L88.978 475.167 L84.0938 475.167 L84.0938 469.287 Z\" fill=\"#000000\" fill-rule=\"evenodd\" fill-opacity=\"1\" /><path clip-path=\"url(#clip620)\" d=\"M99.2095 440.607 L117.566 440.607 L117.566 444.542 L103.492 444.542 L103.492 453.014 Q104.51 452.667 105.529 452.505 Q106.547 452.319 107.566 452.319 Q113.353 452.319 116.733 455.491 Q120.112 458.662 120.112 464.079 Q120.112 469.657 116.64 472.759 Q113.168 475.838 106.848 475.838 Q104.672 475.838 102.404 475.468 Q100.159 475.097 97.7511 474.356 L97.7511 469.657 Q99.8345 470.792 102.057 471.347 Q104.279 471.903 106.756 471.903 Q110.76 471.903 113.098 469.796 Q115.436 467.69 115.436 464.079 Q115.436 460.468 113.098 458.361 Q110.76 456.255 106.756 456.255 Q104.881 456.255 103.006 456.671 Q101.154 457.088 99.2095 457.968 L99.2095 440.607 Z\" fill=\"#000000\" fill-rule=\"evenodd\" fill-opacity=\"1\" /><path clip-path=\"url(#clip620)\" d=\"M56.9643 195.763 L73.2837 195.763 L73.2837 199.698 L51.3393 199.698 L51.3393 195.763 Q54.0014 193.009 58.5847 188.379 Q63.1911 183.726 64.3717 182.384 Q66.617 179.861 67.4967 178.125 Q68.3994 176.365 68.3994 174.675 Q68.3994 171.921 66.455 170.185 Q64.5337 168.449 61.4319 168.449 Q59.2328 168.449 56.7791 169.213 Q54.3486 169.976 51.5708 171.527 L51.5708 166.805 Q54.3949 165.671 56.8486 165.092 Q59.3023 164.513 61.3393 164.513 Q66.7096 164.513 69.9041 167.199 Q73.0985 169.884 73.0985 174.375 Q73.0985 176.504 72.2883 178.425 Q71.5013 180.324 69.3948 182.916 Q68.8161 183.587 65.7143 186.805 Q62.6124 189.999 56.9643 195.763 Z\" fill=\"#000000\" fill-rule=\"evenodd\" fill-opacity=\"1\" /><path clip-path=\"url(#clip620)\" d=\"M83.0984 193.819 L87.9827 193.819 L87.9827 199.698 L83.0984 199.698 L83.0984 193.819 Z\" fill=\"#000000\" fill-rule=\"evenodd\" fill-opacity=\"1\" /><path clip-path=\"url(#clip620)\" d=\"M108.168 168.217 Q104.557 168.217 102.728 171.782 Q100.922 175.324 100.922 182.453 Q100.922 189.56 102.728 193.124 Q104.557 196.666 108.168 196.666 Q111.802 196.666 113.608 193.124 Q115.436 189.56 115.436 182.453 Q115.436 175.324 113.608 171.782 Q111.802 168.217 108.168 168.217 M108.168 164.513 Q113.978 164.513 117.033 169.12 Q120.112 173.703 120.112 182.453 Q120.112 191.18 117.033 195.786 Q113.978 200.37 108.168 200.37 Q102.358 200.37 99.2789 195.786 Q96.2234 191.18 96.2234 182.453 Q96.2234 173.703 99.2789 169.12 Q102.358 164.513 108.168 164.513 Z\" fill=\"#000000\" fill-rule=\"evenodd\" fill-opacity=\"1\" /><circle clip-path=\"url(#clip622)\" cx=\"363.78\" cy=\"1398.74\" r=\"14.4\" fill=\"#009af9\" fill-rule=\"evenodd\" fill-opacity=\"1\" stroke=\"#000000\" stroke-opacity=\"1\" stroke-width=\"3.2\"/>\n",
       "<circle clip-path=\"url(#clip622)\" cx=\"700.935\" cy=\"1424.21\" r=\"14.4\" fill=\"#009af9\" fill-rule=\"evenodd\" fill-opacity=\"1\" stroke=\"#000000\" stroke-opacity=\"1\" stroke-width=\"3.2\"/>\n",
       "<circle clip-path=\"url(#clip622)\" cx=\"218.281\" cy=\"1156.27\" r=\"14.4\" fill=\"#009af9\" fill-rule=\"evenodd\" fill-opacity=\"1\" stroke=\"#000000\" stroke-opacity=\"1\" stroke-width=\"3.2\"/>\n",
       "<circle clip-path=\"url(#clip622)\" cx=\"415.562\" cy=\"1207.71\" r=\"14.4\" fill=\"#009af9\" fill-rule=\"evenodd\" fill-opacity=\"1\" stroke=\"#000000\" stroke-opacity=\"1\" stroke-width=\"3.2\"/>\n",
       "<circle clip-path=\"url(#clip622)\" cx=\"506.625\" cy=\"1041.56\" r=\"14.4\" fill=\"#009af9\" fill-rule=\"evenodd\" fill-opacity=\"1\" stroke=\"#000000\" stroke-opacity=\"1\" stroke-width=\"3.2\"/>\n",
       "<circle clip-path=\"url(#clip622)\" cx=\"1069.97\" cy=\"1308.44\" r=\"14.4\" fill=\"#009af9\" fill-rule=\"evenodd\" fill-opacity=\"1\" stroke=\"#000000\" stroke-opacity=\"1\" stroke-width=\"3.2\"/>\n",
       "<circle clip-path=\"url(#clip622)\" cx=\"265.259\" cy=\"1042.73\" r=\"14.4\" fill=\"#009af9\" fill-rule=\"evenodd\" fill-opacity=\"1\" stroke=\"#000000\" stroke-opacity=\"1\" stroke-width=\"3.2\"/>\n",
       "<circle clip-path=\"url(#clip622)\" cx=\"473.036\" cy=\"1219.37\" r=\"14.4\" fill=\"#009af9\" fill-rule=\"evenodd\" fill-opacity=\"1\" stroke=\"#000000\" stroke-opacity=\"1\" stroke-width=\"3.2\"/>\n",
       "<circle clip-path=\"url(#clip622)\" cx=\"511.901\" cy=\"1100.43\" r=\"14.4\" fill=\"#009af9\" fill-rule=\"evenodd\" fill-opacity=\"1\" stroke=\"#000000\" stroke-opacity=\"1\" stroke-width=\"3.2\"/>\n",
       "<circle clip-path=\"url(#clip622)\" cx=\"1474.38\" cy=\"1397.51\" r=\"14.4\" fill=\"#009af9\" fill-rule=\"evenodd\" fill-opacity=\"1\" stroke=\"#000000\" stroke-opacity=\"1\" stroke-width=\"3.2\"/>\n",
       "<circle clip-path=\"url(#clip622)\" cx=\"499.133\" cy=\"1057.57\" r=\"14.4\" fill=\"#009af9\" fill-rule=\"evenodd\" fill-opacity=\"1\" stroke=\"#000000\" stroke-opacity=\"1\" stroke-width=\"3.2\"/>\n",
       "<circle clip-path=\"url(#clip622)\" cx=\"366.886\" cy=\"1107.73\" r=\"14.4\" fill=\"#009af9\" fill-rule=\"evenodd\" fill-opacity=\"1\" stroke=\"#000000\" stroke-opacity=\"1\" stroke-width=\"3.2\"/>\n",
       "<circle clip-path=\"url(#clip622)\" cx=\"686.318\" cy=\"864.538\" r=\"14.4\" fill=\"#009af9\" fill-rule=\"evenodd\" fill-opacity=\"1\" stroke=\"#000000\" stroke-opacity=\"1\" stroke-width=\"3.2\"/>\n",
       "<circle clip-path=\"url(#clip622)\" cx=\"317.657\" cy=\"918.532\" r=\"14.4\" fill=\"#009af9\" fill-rule=\"evenodd\" fill-opacity=\"1\" stroke=\"#000000\" stroke-opacity=\"1\" stroke-width=\"3.2\"/>\n",
       "<circle clip-path=\"url(#clip622)\" cx=\"820.007\" cy=\"1031.7\" r=\"14.4\" fill=\"#009af9\" fill-rule=\"evenodd\" fill-opacity=\"1\" stroke=\"#000000\" stroke-opacity=\"1\" stroke-width=\"3.2\"/>\n",
       "<circle clip-path=\"url(#clip622)\" cx=\"1068.96\" cy=\"1445.72\" r=\"14.4\" fill=\"#009af9\" fill-rule=\"evenodd\" fill-opacity=\"1\" stroke=\"#000000\" stroke-opacity=\"1\" stroke-width=\"3.2\"/>\n",
       "<circle clip-path=\"url(#clip622)\" cx=\"276.68\" cy=\"1210.28\" r=\"14.4\" fill=\"#009af9\" fill-rule=\"evenodd\" fill-opacity=\"1\" stroke=\"#000000\" stroke-opacity=\"1\" stroke-width=\"3.2\"/>\n",
       "<circle clip-path=\"url(#clip622)\" cx=\"2290.59\" cy=\"87.9763\" r=\"14.4\" fill=\"#009af9\" fill-rule=\"evenodd\" fill-opacity=\"1\" stroke=\"#000000\" stroke-opacity=\"1\" stroke-width=\"3.2\"/>\n",
       "<circle clip-path=\"url(#clip622)\" cx=\"589.84\" cy=\"1012.28\" r=\"14.4\" fill=\"#009af9\" fill-rule=\"evenodd\" fill-opacity=\"1\" stroke=\"#000000\" stroke-opacity=\"1\" stroke-width=\"3.2\"/>\n",
       "<circle clip-path=\"url(#clip622)\" cx=\"554.656\" cy=\"1193.29\" r=\"14.4\" fill=\"#009af9\" fill-rule=\"evenodd\" fill-opacity=\"1\" stroke=\"#000000\" stroke-opacity=\"1\" stroke-width=\"3.2\"/>\n",
       "<circle clip-path=\"url(#clip622)\" cx=\"478.814\" cy=\"1195.55\" r=\"14.4\" fill=\"#009af9\" fill-rule=\"evenodd\" fill-opacity=\"1\" stroke=\"#000000\" stroke-opacity=\"1\" stroke-width=\"3.2\"/>\n",
       "<circle clip-path=\"url(#clip622)\" cx=\"1200.25\" cy=\"1404.63\" r=\"14.4\" fill=\"#009af9\" fill-rule=\"evenodd\" fill-opacity=\"1\" stroke=\"#000000\" stroke-opacity=\"1\" stroke-width=\"3.2\"/>\n",
       "<circle clip-path=\"url(#clip622)\" cx=\"427.985\" cy=\"631.342\" r=\"14.4\" fill=\"#009af9\" fill-rule=\"evenodd\" fill-opacity=\"1\" stroke=\"#000000\" stroke-opacity=\"1\" stroke-width=\"3.2\"/>\n",
       "<circle clip-path=\"url(#clip622)\" cx=\"348.188\" cy=\"1052.36\" r=\"14.4\" fill=\"#009af9\" fill-rule=\"evenodd\" fill-opacity=\"1\" stroke=\"#000000\" stroke-opacity=\"1\" stroke-width=\"3.2\"/>\n",
       "<circle clip-path=\"url(#clip622)\" cx=\"861.704\" cy=\"1098.3\" r=\"14.4\" fill=\"#009af9\" fill-rule=\"evenodd\" fill-opacity=\"1\" stroke=\"#000000\" stroke-opacity=\"1\" stroke-width=\"3.2\"/>\n",
       "<circle clip-path=\"url(#clip622)\" cx=\"1213.05\" cy=\"1152.23\" r=\"14.4\" fill=\"#009af9\" fill-rule=\"evenodd\" fill-opacity=\"1\" stroke=\"#000000\" stroke-opacity=\"1\" stroke-width=\"3.2\"/>\n",
       "<circle clip-path=\"url(#clip622)\" cx=\"558.542\" cy=\"991.287\" r=\"14.4\" fill=\"#009af9\" fill-rule=\"evenodd\" fill-opacity=\"1\" stroke=\"#000000\" stroke-opacity=\"1\" stroke-width=\"3.2\"/>\n",
       "<g clip-path=\"url(#clip620)\">\n",
       "<text style=\"fill:#000000; fill-opacity:1; font-family:Century Gothic,CenturyGothic,AppleGothic,sans-serif; font-size:70px; text-anchor:middle;\" transform=\"rotate(0, 363.78, 1461.14)\" x=\"363.78\" y=\"1461.14\">.</text>\n",
       "</g>\n",
       "<g clip-path=\"url(#clip620)\">\n",
       "<text style=\"fill:#000000; fill-opacity:1; font-family:Century Gothic,CenturyGothic,AppleGothic,sans-serif; font-size:70px; text-anchor:middle;\" transform=\"rotate(0, 700.935, 1486.61)\" x=\"700.935\" y=\"1486.61\">a</text>\n",
       "</g>\n",
       "<g clip-path=\"url(#clip620)\">\n",
       "<text style=\"fill:#000000; fill-opacity:1; font-family:Century Gothic,CenturyGothic,AppleGothic,sans-serif; font-size:70px; text-anchor:middle;\" transform=\"rotate(0, 218.281, 1218.67)\" x=\"218.281\" y=\"1218.67\">b</text>\n",
       "</g>\n",
       "<g clip-path=\"url(#clip620)\">\n",
       "<text style=\"fill:#000000; fill-opacity:1; font-family:Century Gothic,CenturyGothic,AppleGothic,sans-serif; font-size:70px; text-anchor:middle;\" transform=\"rotate(0, 415.562, 1270.11)\" x=\"415.562\" y=\"1270.11\">c</text>\n",
       "</g>\n",
       "<g clip-path=\"url(#clip620)\">\n",
       "<text style=\"fill:#000000; fill-opacity:1; font-family:Century Gothic,CenturyGothic,AppleGothic,sans-serif; font-size:70px; text-anchor:middle;\" transform=\"rotate(0, 506.625, 1103.96)\" x=\"506.625\" y=\"1103.96\">d</text>\n",
       "</g>\n",
       "<g clip-path=\"url(#clip620)\">\n",
       "<text style=\"fill:#000000; fill-opacity:1; font-family:Century Gothic,CenturyGothic,AppleGothic,sans-serif; font-size:70px; text-anchor:middle;\" transform=\"rotate(0, 1069.97, 1370.84)\" x=\"1069.97\" y=\"1370.84\">e</text>\n",
       "</g>\n",
       "<g clip-path=\"url(#clip620)\">\n",
       "<text style=\"fill:#000000; fill-opacity:1; font-family:Century Gothic,CenturyGothic,AppleGothic,sans-serif; font-size:70px; text-anchor:middle;\" transform=\"rotate(0, 265.259, 1105.13)\" x=\"265.259\" y=\"1105.13\">f</text>\n",
       "</g>\n",
       "<g clip-path=\"url(#clip620)\">\n",
       "<text style=\"fill:#000000; fill-opacity:1; font-family:Century Gothic,CenturyGothic,AppleGothic,sans-serif; font-size:70px; text-anchor:middle;\" transform=\"rotate(0, 473.036, 1281.77)\" x=\"473.036\" y=\"1281.77\">g</text>\n",
       "</g>\n",
       "<g clip-path=\"url(#clip620)\">\n",
       "<text style=\"fill:#000000; fill-opacity:1; font-family:Century Gothic,CenturyGothic,AppleGothic,sans-serif; font-size:70px; text-anchor:middle;\" transform=\"rotate(0, 511.901, 1162.83)\" x=\"511.901\" y=\"1162.83\">h</text>\n",
       "</g>\n",
       "<g clip-path=\"url(#clip620)\">\n",
       "<text style=\"fill:#000000; fill-opacity:1; font-family:Century Gothic,CenturyGothic,AppleGothic,sans-serif; font-size:70px; text-anchor:middle;\" transform=\"rotate(0, 1474.38, 1459.91)\" x=\"1474.38\" y=\"1459.91\">i</text>\n",
       "</g>\n",
       "<g clip-path=\"url(#clip620)\">\n",
       "<text style=\"fill:#000000; fill-opacity:1; font-family:Century Gothic,CenturyGothic,AppleGothic,sans-serif; font-size:70px; text-anchor:middle;\" transform=\"rotate(0, 499.133, 1119.97)\" x=\"499.133\" y=\"1119.97\">j</text>\n",
       "</g>\n",
       "<g clip-path=\"url(#clip620)\">\n",
       "<text style=\"fill:#000000; fill-opacity:1; font-family:Century Gothic,CenturyGothic,AppleGothic,sans-serif; font-size:70px; text-anchor:middle;\" transform=\"rotate(0, 366.886, 1170.13)\" x=\"366.886\" y=\"1170.13\">k</text>\n",
       "</g>\n",
       "<g clip-path=\"url(#clip620)\">\n",
       "<text style=\"fill:#000000; fill-opacity:1; font-family:Century Gothic,CenturyGothic,AppleGothic,sans-serif; font-size:70px; text-anchor:middle;\" transform=\"rotate(0, 686.318, 926.938)\" x=\"686.318\" y=\"926.938\">l</text>\n",
       "</g>\n",
       "<g clip-path=\"url(#clip620)\">\n",
       "<text style=\"fill:#000000; fill-opacity:1; font-family:Century Gothic,CenturyGothic,AppleGothic,sans-serif; font-size:70px; text-anchor:middle;\" transform=\"rotate(0, 317.657, 980.932)\" x=\"317.657\" y=\"980.932\">m</text>\n",
       "</g>\n",
       "<g clip-path=\"url(#clip620)\">\n",
       "<text style=\"fill:#000000; fill-opacity:1; font-family:Century Gothic,CenturyGothic,AppleGothic,sans-serif; font-size:70px; text-anchor:middle;\" transform=\"rotate(0, 820.007, 1094.1)\" x=\"820.007\" y=\"1094.1\">n</text>\n",
       "</g>\n",
       "<g clip-path=\"url(#clip620)\">\n",
       "<text style=\"fill:#000000; fill-opacity:1; font-family:Century Gothic,CenturyGothic,AppleGothic,sans-serif; font-size:70px; text-anchor:middle;\" transform=\"rotate(0, 1068.96, 1508.12)\" x=\"1068.96\" y=\"1508.12\">o</text>\n",
       "</g>\n",
       "<g clip-path=\"url(#clip620)\">\n",
       "<text style=\"fill:#000000; fill-opacity:1; font-family:Century Gothic,CenturyGothic,AppleGothic,sans-serif; font-size:70px; text-anchor:middle;\" transform=\"rotate(0, 276.68, 1272.68)\" x=\"276.68\" y=\"1272.68\">p</text>\n",
       "</g>\n",
       "<g clip-path=\"url(#clip620)\">\n",
       "<text style=\"fill:#000000; fill-opacity:1; font-family:Century Gothic,CenturyGothic,AppleGothic,sans-serif; font-size:70px; text-anchor:middle;\" transform=\"rotate(0, 2290.59, 150.376)\" x=\"2290.59\" y=\"150.376\">q</text>\n",
       "</g>\n",
       "<g clip-path=\"url(#clip620)\">\n",
       "<text style=\"fill:#000000; fill-opacity:1; font-family:Century Gothic,CenturyGothic,AppleGothic,sans-serif; font-size:70px; text-anchor:middle;\" transform=\"rotate(0, 589.84, 1074.68)\" x=\"589.84\" y=\"1074.68\">r</text>\n",
       "</g>\n",
       "<g clip-path=\"url(#clip620)\">\n",
       "<text style=\"fill:#000000; fill-opacity:1; font-family:Century Gothic,CenturyGothic,AppleGothic,sans-serif; font-size:70px; text-anchor:middle;\" transform=\"rotate(0, 554.656, 1255.69)\" x=\"554.656\" y=\"1255.69\">s</text>\n",
       "</g>\n",
       "<g clip-path=\"url(#clip620)\">\n",
       "<text style=\"fill:#000000; fill-opacity:1; font-family:Century Gothic,CenturyGothic,AppleGothic,sans-serif; font-size:70px; text-anchor:middle;\" transform=\"rotate(0, 478.814, 1257.95)\" x=\"478.814\" y=\"1257.95\">t</text>\n",
       "</g>\n",
       "<g clip-path=\"url(#clip620)\">\n",
       "<text style=\"fill:#000000; fill-opacity:1; font-family:Century Gothic,CenturyGothic,AppleGothic,sans-serif; font-size:70px; text-anchor:middle;\" transform=\"rotate(0, 1200.25, 1467.03)\" x=\"1200.25\" y=\"1467.03\">u</text>\n",
       "</g>\n",
       "<g clip-path=\"url(#clip620)\">\n",
       "<text style=\"fill:#000000; fill-opacity:1; font-family:Century Gothic,CenturyGothic,AppleGothic,sans-serif; font-size:70px; text-anchor:middle;\" transform=\"rotate(0, 427.985, 693.742)\" x=\"427.985\" y=\"693.742\">v</text>\n",
       "</g>\n",
       "<g clip-path=\"url(#clip620)\">\n",
       "<text style=\"fill:#000000; fill-opacity:1; font-family:Century Gothic,CenturyGothic,AppleGothic,sans-serif; font-size:70px; text-anchor:middle;\" transform=\"rotate(0, 348.188, 1114.76)\" x=\"348.188\" y=\"1114.76\">w</text>\n",
       "</g>\n",
       "<g clip-path=\"url(#clip620)\">\n",
       "<text style=\"fill:#000000; fill-opacity:1; font-family:Century Gothic,CenturyGothic,AppleGothic,sans-serif; font-size:70px; text-anchor:middle;\" transform=\"rotate(0, 861.704, 1160.7)\" x=\"861.704\" y=\"1160.7\">x</text>\n",
       "</g>\n",
       "<g clip-path=\"url(#clip620)\">\n",
       "<text style=\"fill:#000000; fill-opacity:1; font-family:Century Gothic,CenturyGothic,AppleGothic,sans-serif; font-size:70px; text-anchor:middle;\" transform=\"rotate(0, 1213.05, 1214.63)\" x=\"1213.05\" y=\"1214.63\">y</text>\n",
       "</g>\n",
       "<g clip-path=\"url(#clip620)\">\n",
       "<text style=\"fill:#000000; fill-opacity:1; font-family:Century Gothic,CenturyGothic,AppleGothic,sans-serif; font-size:70px; text-anchor:middle;\" transform=\"rotate(0, 558.542, 1053.69)\" x=\"558.542\" y=\"1053.69\">z</text>\n",
       "</g>\n",
       "</svg>\n"
      ]
     },
     "execution_count": 166,
     "metadata": {},
     "output_type": "execute_result"
    }
   ],
   "source": [
    "C_ = mlp[1].weight\n",
    "# plotly()\n",
    "scatter(C_[1,:], C_[2,:], series_annotations = text.(vocab, :top, 12, family=\"monospace\"), label=\"\")"
   ]
  },
  {
   "cell_type": "code",
   "execution_count": null,
   "id": "a6f18032",
   "metadata": {},
   "outputs": [],
   "source": []
  }
 ],
 "metadata": {
  "kernelspec": {
   "display_name": "Julia 1.8.5",
   "language": "julia",
   "name": "julia-1.8"
  },
  "language_info": {
   "file_extension": ".jl",
   "mimetype": "application/julia",
   "name": "julia",
   "version": "1.8.5"
  }
 },
 "nbformat": 4,
 "nbformat_minor": 5
}
