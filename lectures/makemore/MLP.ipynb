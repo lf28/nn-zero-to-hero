{
 "cells": [
  {
   "cell_type": "code",
   "execution_count": 1,
   "id": "f117e9a4-3185-4818-ae59-ed23e7b8cb33",
   "metadata": {},
   "outputs": [
    {
     "data": {
      "text/plain": [
       "['emma', 'olivia', 'ava', 'isabella', 'sophia', 'charlotte', 'mia', 'amelia']"
      ]
     },
     "execution_count": 1,
     "metadata": {},
     "output_type": "execute_result"
    }
   ],
   "source": [
    "# read in all the words\n",
    "words = open('names.txt', 'r').read().splitlines()\n",
    "words[:8]"
   ]
  },
  {
   "cell_type": "code",
   "execution_count": 2,
   "id": "88effdcc-e08a-4d45-aa0e-9217c4637630",
   "metadata": {},
   "outputs": [],
   "source": [
    "# character to index translation\n",
    "vocab = set(words[0])\n",
    "for i in range(len(words)):\n",
    "    vocab = vocab.union(set(words[i]))\n",
    "vocab = sorted(list(vocab)) \n",
    "# vocab = sorted(list(set(''.join(words))))\n",
    "vocab.insert(0, '.')"
   ]
  },
  {
   "cell_type": "code",
   "execution_count": 3,
   "id": "45246678-592e-402d-80d3-560597a30327",
   "metadata": {},
   "outputs": [],
   "source": [
    "stoi = {c:i for c, i in zip(vocab, range(len(vocab)))}\n",
    "itos = {i:c for c, i in zip(vocab, range(len(vocab)))}"
   ]
  },
  {
   "cell_type": "code",
   "execution_count": 4,
   "id": "f97c9049-b7e7-46d9-a930-c9671b3ebd97",
   "metadata": {},
   "outputs": [
    {
     "name": "stdout",
     "output_type": "stream",
     "text": [
      "{0: '.', 1: 'a', 2: 'b', 3: 'c', 4: 'd', 5: 'e', 6: 'f', 7: 'g', 8: 'h', 9: 'i', 10: 'j', 11: 'k', 12: 'l', 13: 'm', 14: 'n', 15: 'o', 16: 'p', 17: 'q', 18: 'r', 19: 's', 20: 't', 21: 'u', 22: 'v', 23: 'w', 24: 'x', 25: 'y', 26: 'z'}\n"
     ]
    }
   ],
   "source": [
    "print(itos)"
   ]
  },
  {
   "cell_type": "code",
   "execution_count": 5,
   "id": "6a8517b8-de94-4a02-8723-dd1d3c69e5eb",
   "metadata": {},
   "outputs": [],
   "source": [
    "# for c, i in zip(vocab, range(len(vocab))):\n",
    "#     print(c, i)"
   ]
  },
  {
   "cell_type": "code",
   "execution_count": 6,
   "id": "518ee286-50c4-4529-8790-9a1b36d055cc",
   "metadata": {},
   "outputs": [],
   "source": [
    "import torch\n",
    "import torch.nn.functional as F\n",
    "import matplotlib.pyplot as plt # for making figures\n",
    "%matplotlib inline"
   ]
  },
  {
   "cell_type": "code",
   "execution_count": 7,
   "id": "8335a7f5-9d10-4857-ac92-7d7d50b054d8",
   "metadata": {},
   "outputs": [
    {
     "data": {
      "text/plain": [
       "'...emma'"
      ]
     },
     "execution_count": 7,
     "metadata": {},
     "output_type": "execute_result"
    }
   ],
   "source": [
    "# block (context) size\n",
    "block_size = 3\n",
    "\n",
    "'.'*block_size + words[0]"
   ]
  },
  {
   "cell_type": "code",
   "execution_count": 8,
   "id": "02f1c72b-e2cf-4077-b5d6-12ad61136a8b",
   "metadata": {},
   "outputs": [],
   "source": [
    "# X = []\n",
    "# Y = []\n",
    "\n",
    "# for w in words:\n",
    "#     context = '.' * block_size\n",
    "#     for c in w + '.':\n",
    "#         X.append([stoi[c] for c in context])\n",
    "#         Y.append(stoi[c])\n",
    "#         # print(context, c)\n",
    "#         context = context[1:] + c\n",
    "        \n",
    "# X = torch.tensor(X)\n",
    "# Y = torch.tensor(Y)"
   ]
  },
  {
   "cell_type": "code",
   "execution_count": 9,
   "id": "853e2050-b08c-496a-b877-5f80102f4908",
   "metadata": {},
   "outputs": [],
   "source": [
    "def build_dataset(words):\n",
    "    X = []\n",
    "    Y = []\n",
    "\n",
    "    for w in words:\n",
    "        context = '.' * block_size\n",
    "        for c in w + '.':\n",
    "            X.append([stoi[c] for c in context])\n",
    "            Y.append(stoi[c])\n",
    "            # print(context, c)\n",
    "            context = context[1:] + c\n",
    "    X = torch.tensor(X)\n",
    "    Y = torch.tensor(Y)\n",
    "    print(X.shape, Y.shape)\n",
    "    return X, Y"
   ]
  },
  {
   "cell_type": "code",
   "execution_count": 10,
   "id": "0782b8fd-8c91-4005-9aaf-10c2bec0a808",
   "metadata": {},
   "outputs": [
    {
     "name": "stdout",
     "output_type": "stream",
     "text": [
      "torch.Size([228146, 3]) torch.Size([228146])\n"
     ]
    }
   ],
   "source": [
    "X , Y = build_dataset(words)"
   ]
  },
  {
   "cell_type": "code",
   "execution_count": 11,
   "id": "812248d4-2dd2-40bb-8c0c-23aed796c4ad",
   "metadata": {},
   "outputs": [
    {
     "data": {
      "text/plain": [
       "(torch.Size([228146, 3]), torch.int64, torch.Size([228146]), torch.int64)"
      ]
     },
     "execution_count": 11,
     "metadata": {},
     "output_type": "execute_result"
    }
   ],
   "source": [
    "X.shape, X.dtype, Y.shape, Y.dtype"
   ]
  },
  {
   "cell_type": "code",
   "execution_count": 12,
   "id": "7b230517-062f-4b19-9d0d-b0fd90206a79",
   "metadata": {},
   "outputs": [
    {
     "data": {
      "text/plain": [
       "228146"
      ]
     },
     "execution_count": 12,
     "metadata": {},
     "output_type": "execute_result"
    }
   ],
   "source": [
    "X.shape[0]"
   ]
  },
  {
   "cell_type": "code",
   "execution_count": 13,
   "id": "7fdb267a-a694-46a1-9be9-f4a577fc0738",
   "metadata": {},
   "outputs": [
    {
     "name": "stdout",
     "output_type": "stream",
     "text": [
      "torch.Size([182625, 3]) torch.Size([182625])\n",
      "torch.Size([22655, 3]) torch.Size([22655])\n",
      "torch.Size([22866, 3]) torch.Size([22866])\n"
     ]
    }
   ],
   "source": [
    "# split the data into training, dev, testing\n",
    "import random\n",
    "random.seed(42)\n",
    "# random.seed(42)\n",
    "random.shuffle(words)\n",
    "n1 = int(0.8*len(words))\n",
    "n2 = int(0.9*len(words))\n",
    "Xtr, Ytr = build_dataset(words[:n1])\n",
    "Xdev, Ydev = build_dataset(words[n1:n2])\n",
    "Xte, Yte = build_dataset(words[n2:])"
   ]
  },
  {
   "cell_type": "code",
   "execution_count": 14,
   "id": "4216c191-adb4-4bc2-8455-b4ecb5730246",
   "metadata": {},
   "outputs": [],
   "source": [
    "# total_train_size = X.shape[0]\n",
    "# idx = list(range(total_train_size))\n",
    "# random.shuffle(idx)\n",
    "# train_end_i = int(0.8 * total_train_size)\n",
    "# train_idx = idx[0:train_end_i]\n",
    "# Xtr, Ytr = X[train_idx], Y[train_idx]\n",
    "# dev_end_i = train_end_i + int(0.1 * total_train_size)\n",
    "# dev_idx = idx[train_end_i:dev_end_i]\n",
    "# Xdev, Ydev = X[dev_idx], Y[dev_idx]\n",
    "# # test_end_i = dev_end_i + int(0.1 * total_train_size)\n",
    "# test_idx = idx[dev_end_i:]\n",
    "# Xte, Yte = X[test_idx], Y[test_idx]"
   ]
  },
  {
   "cell_type": "code",
   "execution_count": 15,
   "id": "e78c9f03-e207-442c-8851-83b870fb7115",
   "metadata": {},
   "outputs": [
    {
     "data": {
      "text/plain": [
       "(torch.Size([182625, 3]), torch.Size([22655, 3]), torch.Size([22866, 3]))"
      ]
     },
     "execution_count": 15,
     "metadata": {},
     "output_type": "execute_result"
    }
   ],
   "source": [
    "Xtr.shape, Xdev.shape, Xte.shape"
   ]
  },
  {
   "cell_type": "code",
   "execution_count": 16,
   "id": "1112313b-1b25-4bde-a2d1-802c79563faf",
   "metadata": {},
   "outputs": [],
   "source": [
    "# embed dimension\n",
    "dim = 10 \n",
    "C = torch.randn(len(vocab), dim)"
   ]
  },
  {
   "cell_type": "code",
   "execution_count": 17,
   "id": "2086d398-5b9e-4361-8e05-c6d0b77b4c15",
   "metadata": {},
   "outputs": [],
   "source": [
    "g = torch.Generator().manual_seed(2147483647) # for reproducibility\n",
    "h = 200 # number of hidden units in the first dense layer\n",
    "W1 = torch.randn((dim * block_size, h), generator=g)\n",
    "# b1 = torch.zeros(h)\n",
    "b1 = torch.randn(h, generator=g)\n",
    "W2 = torch.randn((h, len(vocab)), generator=g)\n",
    "# b2 = torch.zeros(len(vocab))\n",
    "b2 = torch.randn(len(vocab), generator=g)\n",
    "# W = torch.randn(dim * block_size, len(vocab))\n",
    "params = [C, W1, b1, W2, b2]"
   ]
  },
  {
   "cell_type": "code",
   "execution_count": 18,
   "id": "8c48bbac-be87-4148-b5cc-c783b9e9db64",
   "metadata": {},
   "outputs": [
    {
     "data": {
      "text/plain": [
       "11897"
      ]
     },
     "execution_count": 18,
     "metadata": {},
     "output_type": "execute_result"
    }
   ],
   "source": [
    "sum(p.nelement() for p in params) # number of parameters in total"
   ]
  },
  {
   "cell_type": "code",
   "execution_count": 19,
   "id": "0a0bfd7d-5536-4ed0-b230-310bfe804da0",
   "metadata": {},
   "outputs": [],
   "source": [
    "# C[X[0]].view(-1, dim * block_size).shape"
   ]
  },
  {
   "cell_type": "code",
   "execution_count": 20,
   "id": "5f9b860e-6ee2-4ec8-8280-4ad27b013e9c",
   "metadata": {},
   "outputs": [],
   "source": [
    "for p in params:\n",
    "    p.requires_grad = True"
   ]
  },
  {
   "cell_type": "code",
   "execution_count": 21,
   "id": "e27432f6-192a-4c02-8035-2b6cfd450705",
   "metadata": {},
   "outputs": [],
   "source": [
    "lri = []\n",
    "lossi = []\n",
    "stepi = []"
   ]
  },
  {
   "cell_type": "code",
   "execution_count": 22,
   "id": "8b1336d4-a1fc-4397-ab6d-a0f94f46d25f",
   "metadata": {},
   "outputs": [],
   "source": [
    "batch_size = 32"
   ]
  },
  {
   "cell_type": "code",
   "execution_count": 23,
   "id": "d2aa27e4-c109-44f4-b788-e437a0d5003e",
   "metadata": {},
   "outputs": [],
   "source": [
    "for i in range(200_000):\n",
    "#     mini batch\n",
    "    ix = torch.randint(0, Xtr.shape[0], (batch_size, ))\n",
    "    Xtr_ = Xtr[ix] \n",
    "    Ytr_ = Ytr[ix]\n",
    "#     forward pass\n",
    "\n",
    "    emb = C[Xtr_].view(-1, dim * block_size)\n",
    "    h1 = (emb @ W1 + b1).tanh()\n",
    "    logits = h1 @ W2 + b2\n",
    "    loss = F.cross_entropy(logits, Ytr_)\n",
    "    \n",
    "    \n",
    "#     backward pass\n",
    "    for p in params:\n",
    "        p.grad = None\n",
    "        \n",
    "    loss.backward()\n",
    "    \n",
    "#     gradient descent\n",
    "    lr = 0.1 if i < 100000 else 0.01\n",
    "    for p in params:\n",
    "        p.data +=  -lr * p.grad\n",
    "    \n",
    "    stepi.append(i)\n",
    "    lossi.append(loss.item())"
   ]
  },
  {
   "cell_type": "code",
   "execution_count": 24,
   "id": "2eae9a83-9922-41e8-b8ef-5e475e896165",
   "metadata": {},
   "outputs": [
    {
     "data": {
      "text/plain": [
       "1.839640498161316"
      ]
     },
     "execution_count": 24,
     "metadata": {},
     "output_type": "execute_result"
    }
   ],
   "source": [
    "loss.item()"
   ]
  },
  {
   "cell_type": "code",
   "execution_count": 25,
   "id": "a6b65b77-8186-4eda-83db-120e65be9f81",
   "metadata": {},
   "outputs": [
    {
     "data": {
      "text/plain": [
       "[<matplotlib.lines.Line2D at 0x7fd218391fc0>]"
      ]
     },
     "execution_count": 25,
     "metadata": {},
     "output_type": "execute_result"
    },
    {
     "data": {
      "image/png": "[encoded data removed]",
      "text/plain": [
       "<Figure size 640x480 with 1 Axes>"
      ]
     },
     "metadata": {},
     "output_type": "display_data"
    }
   ],
   "source": [
    "plt.plot(stepi, lossi)"
   ]
  },
  {
   "cell_type": "code",
   "execution_count": 26,
   "id": "e678dbc5-339d-4296-bca8-fbf36bee04fa",
   "metadata": {},
   "outputs": [
    {
     "data": {
      "text/plain": [
       "tensor(2.1223, grad_fn=<NllLossBackward0>)"
      ]
     },
     "execution_count": 26,
     "metadata": {},
     "output_type": "execute_result"
    }
   ],
   "source": [
    "emb = C[Xtr] # (32, 3, 2)\n",
    "h = torch.tanh(emb.view(-1, dim * block_size) @ W1 + b1) \n",
    "logits = h @ W2 + b2 \n",
    "loss = F.cross_entropy(logits, Ytr)\n",
    "loss"
   ]
  },
  {
   "cell_type": "code",
   "execution_count": 27,
   "id": "85b39cbd-33ac-42f8-95cf-463e3e96592d",
   "metadata": {},
   "outputs": [
    {
     "data": {
      "text/plain": [
       "tensor(2.1600, grad_fn=<NllLossBackward0>)"
      ]
     },
     "execution_count": 27,
     "metadata": {},
     "output_type": "execute_result"
    }
   ],
   "source": [
    "emb = C[Xdev] # (32, 3, 2)\n",
    "h = torch.tanh(emb.view(-1, dim * block_size) @ W1 + b1) \n",
    "logits = h @ W2 + b2 \n",
    "loss = F.cross_entropy(logits, Ydev)\n",
    "loss"
   ]
  },
  {
   "cell_type": "code",
   "execution_count": 28,
   "id": "828669a0-5fac-4ef0-99c8-b4a32579bd2e",
   "metadata": {},
   "outputs": [
    {
     "data": {
      "image/png": "[encoded data removed]",
      "text/plain": [
       "<Figure size 800x800 with 1 Axes>"
      ]
     },
     "metadata": {},
     "output_type": "display_data"
    }
   ],
   "source": [
    "# visualize dimensions 0 and 1 of the embedding matrix C for all characters\n",
    "plt.figure(figsize=(8,8))\n",
    "plt.scatter(C[:,0].data, C[:,1].data, s=200)\n",
    "for i in range(C.shape[0]):\n",
    "    plt.text(C[i,0].item(), C[i,1].item(), itos[i], ha=\"center\", va=\"center\", color='white')\n",
    "plt.grid('minor')"
   ]
  },
  {
   "cell_type": "code",
   "execution_count": 30,
   "id": "52fa8eab-63b5-4288-9524-92e990089e56",
   "metadata": {},
   "outputs": [
    {
     "name": "stdout",
     "output_type": "stream",
     "text": [
      "1.13.1\n"
     ]
    }
   ],
   "source": [
    "print(torch.__version__)"
   ]
  },
  {
   "cell_type": "code",
   "execution_count": null,
   "id": "6dc7d96c-e7d8-4d8f-8d35-b78f3a1ab7e1",
   "metadata": {},
   "outputs": [],
   "source": []
  }
 ],
 "metadata": {
  "kernelspec": {
   "display_name": "Python 3 (ipykernel)",
   "language": "python",
   "name": "python3"
  },
  "language_info": {
   "codemirror_mode": {
    "name": "ipython",
    "version": 3
   },
   "file_extension": ".py",
   "mimetype": "text/x-python",
   "name": "python",
   "nbconvert_exporter": "python",
   "pygments_lexer": "ipython3",
   "version": "3.9.10"
  }
 },
 "nbformat": 4,
 "nbformat_minor": 5
}
